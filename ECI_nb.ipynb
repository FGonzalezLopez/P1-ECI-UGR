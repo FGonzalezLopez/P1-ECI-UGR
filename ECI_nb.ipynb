{
 "cells": [
  {
   "cell_type": "code",
   "execution_count": 48,
   "metadata": {},
   "outputs": [],
   "source": [
    "import numpy as np\n",
    "import PIL\n",
    "import itertools\n",
    "from matplotlib import pyplot as plt\n",
    "import cv2\n",
    "from os import listdir\n",
    "from sklearn import metrics\n",
    "from sklearn.model_selection import StratifiedKFold\n",
    "from joblib import Parallel, delayed\n",
    "import h5py"
   ]
  },
  {
   "cell_type": "code",
   "execution_count": 49,
   "metadata": {},
   "outputs": [],
   "source": [
    "# Progress bar widget\n",
    "def log_progress(sequence, every=None, size=None, name='Items'):\n",
    "    from ipywidgets import IntProgress, HTML, VBox\n",
    "    from IPython.display import display\n",
    "\n",
    "    is_iterator = False\n",
    "    if size is None:\n",
    "        try:\n",
    "            size = len(sequence)\n",
    "        except TypeError:\n",
    "            is_iterator = True\n",
    "    if size is not None:\n",
    "        if every is None:\n",
    "            if size <= 200:\n",
    "                every = 1\n",
    "            else:\n",
    "                every = int(size / 200)     # every 0.5%\n",
    "    else:\n",
    "        assert every is not None, 'sequence is iterator, set every'\n",
    "\n",
    "    if is_iterator:\n",
    "        progress = IntProgress(min=0, max=1, value=1)\n",
    "        progress.bar_style = 'info'\n",
    "    else:\n",
    "        progress = IntProgress(min=0, max=size, value=0)\n",
    "    label = HTML()\n",
    "    box = VBox(children=[label, progress])\n",
    "    display(box)\n",
    "\n",
    "    index = 0\n",
    "    try:\n",
    "        for index, record in enumerate(sequence, 1):\n",
    "            if index == 1 or index % every == 0:\n",
    "                if is_iterator:\n",
    "                    label.value = '{name}: {index} / ?'.format(\n",
    "                        name=name,\n",
    "                        index=index\n",
    "                    )\n",
    "                else:\n",
    "                    progress.value = index\n",
    "                    label.value = u'{name}: {index} / {size} / {percentage:.2f}%'.format(\n",
    "                        name=name,\n",
    "                        index=index,\n",
    "                        size=size,\n",
    "                        percentage=index*100.0/size\n",
    "                    )\n",
    "            yield record\n",
    "    except:\n",
    "        progress.bar_style = 'danger'\n",
    "        raise\n",
    "    else:\n",
    "        progress.bar_style = 'success'\n",
    "        progress.value = index\n",
    "        label.value = \"{name}: {index}\".format(\n",
    "            name=name,\n",
    "            index=str(index or '?')\n",
    "        )"
   ]
  },
  {
   "cell_type": "code",
   "execution_count": null,
   "metadata": {},
   "outputs": [],
   "source": []
  },
  {
   "cell_type": "code",
   "execution_count": 50,
   "metadata": {},
   "outputs": [],
   "source": [
    "# Define the paths to the folders containing the files\n",
    "path_positive_train = \"data/train/pedestrians/\"\n",
    "path_negative_train = \"data/train/background/\"\n",
    "path_positive_test = \"data/test/pedestrians/\"\n",
    "path_negative_test = \"data/test/background/\"\n",
    "example_positive = path_positive_test + \"AnnotationsPos_0.000000_crop001001b_0.png\"\n",
    "example_negative = path_negative_test + \"AnnotationsNeg_0.000000_00000002a_0.png\""
   ]
  },
  {
   "cell_type": "code",
   "execution_count": 51,
   "metadata": {},
   "outputs": [],
   "source": [
    "def data_from_dir(input_dir):\n",
    "    # List the files in the input_dir (pre-prend the dir)\n",
    "    file_list = [input_dir+f for f in listdir(input_dir) if f.endswith(\".png\")]\n",
    "    # Read the files (parallel style)\n",
    "    images = Parallel(n_jobs=-2)(delayed(lambda x:cv2.imread(x)[:,:,::-1])(im_path) for im_path in file_list)\n",
    "#     images = [cv2.imread(im_path)[:,:,::-1] for im_path in file_list]\n",
    "\n",
    "    # Return as an array\n",
    "    return np.array(images)\n",
    "\n",
    "def load_data(pos_path, neg_path):\n",
    "    # Load positives\n",
    "    pos_data = data_from_dir(pos_path)\n",
    "    # Load negatives\n",
    "    neg_data = data_from_dir(neg_path)\n",
    "    # Concatenate them\n",
    "    all_data = np.concatenate([pos_data, neg_data], axis=0)\n",
    "    # Set the labels\n",
    "    all_labels = np.zeros(all_data.shape[0], dtype='int32')\n",
    "    all_labels[:pos_data.shape[0]] = 1\n",
    "    \n",
    "    return all_data, all_labels"
   ]
  },
  {
   "cell_type": "code",
   "execution_count": 197,
   "metadata": {},
   "outputs": [],
   "source": [
    "# From the scikit-learn docs... https://scikit-learn.org/stable/auto_examples/model_selection/plot_confusion_matrix.html\n",
    "def plot_confusion_matrix(cm, classes,\n",
    "                          normalize=False,\n",
    "                          title='Confusion matrix',\n",
    "                          cmap=plt.cm.Blues):\n",
    "    \"\"\"\n",
    "    This function prints and plots the confusion matrix.\n",
    "    Normalization can be applied by setting `normalize=True`.\n",
    "    \"\"\"\n",
    "    \n",
    "    print(\"Confusion matrix:\\n\", cm)\n",
    "    \n",
    "    if normalize:\n",
    "        cm = cm.astype('float') / cm.sum(axis=1)[:, np.newaxis]\n",
    "\n",
    "    plt.imshow(cm, interpolation='nearest', cmap=cmap)\n",
    "    plt.title(title)\n",
    "#     plt.colorbar()\n",
    "    tick_marks = np.arange(len(classes))\n",
    "    plt.xticks(tick_marks, classes, rotation=45)\n",
    "    plt.yticks(tick_marks, classes)\n",
    "\n",
    "    fmt = '.2f' if normalize else 'd'\n",
    "    thresh = cm.max() / 2.\n",
    "    for i, j in itertools.product(range(cm.shape[0]), range(cm.shape[1])):\n",
    "        plt.text(j, i, format(cm[i, j], fmt),\n",
    "                 horizontalalignment=\"center\",\n",
    "                 color=\"white\" if cm[i, j] > thresh else \"black\")\n",
    "\n",
    "    plt.ylabel('True label')\n",
    "    plt.xlabel('Predicted label')\n",
    "    plt.tight_layout()\n",
    "\n",
    "##############################################################################################################\n",
    "\n",
    "# Again from https://scikit-learn.org/stable/auto_examples/model_selection/plot_roc.html\n",
    "def plot_ROC(y_true, y_pred):\n",
    "    # Compute ROC curve and ROC area\n",
    "    for i in range(2):\n",
    "        fpr, tpr, _ = metrics.roc_curve(y_true, y_pred)\n",
    "        roc_auc = metrics.auc(fpr, tpr)\n",
    "    \n",
    "    plt.figure()\n",
    "    lw = 2\n",
    "    plt.plot(fpr, tpr, color='darkorange',\n",
    "             lw=lw, label='ROC curve (area = %0.2f)' % roc_auc)\n",
    "    plt.plot([0, 1], [0, 1], color='navy', lw=lw, linestyle='--')\n",
    "    plt.xlim([0.0, 1.0])\n",
    "    plt.ylim([0.0, 1.05])\n",
    "    plt.xlabel('False Positive Rate')\n",
    "    plt.ylabel('True Positive Rate')\n",
    "    plt.title('Receiver operating characteristic example')\n",
    "    plt.legend(loc=\"lower right\")\n",
    "    plt.show()\n",
    "\n",
    "##############################################################################################################\n",
    "\n",
    "# Pack everything in a single function :D\n",
    "def test_model(in_model, in_data, t_labels, prints=False):\n",
    "    # Predict the new data\n",
    "    # Using flags = True we retrieve the distance to the decision plane; negative means \"positive\" or 1, positive \"false\" or 0\n",
    "    _, p_scores_raw = in_model.predict(in_data, flags=True)\n",
    "    # Use a softmax to get something that looks like a [0,1] score\n",
    "    # Don't use the negative value (as we'd have to then compute the complimentary scores again)\n",
    "    #p_scores = 1 - (1/(1+np.exp(-p_scores_raw)))\n",
    "    p_scores = 1/(1+np.exp(p_scores_raw))\n",
    "    # Get the labels thresholding the raw scores (if negative, label is 1, if positive, label is 0)\n",
    "    p_labels = np.int32(p_scores_raw < 0)\n",
    "    t_labels = np.int32(t_labels)\n",
    "    \n",
    "    # Evaluate the results\n",
    "    cm = metrics.confusion_matrix(t_labels, p_labels)\n",
    "    accuracy = metrics.accuracy_score(t_labels, p_labels)\n",
    "    precision = metrics.precision_score(t_labels, p_labels)\n",
    "    recall = metrics.recall_score(t_labels, p_labels)\n",
    "    f1 = metrics.f1_score(t_labels, p_labels)\n",
    "    auc = metrics.roc_auc_score(t_labels, p_scores)\n",
    "    \n",
    "    if(prints):\n",
    "        print(\"Accuracy:\", accuracy)\n",
    "        print(\"Precision:\", precision)\n",
    "        print(\"Recall:\", recall)\n",
    "        print(\"F1 score:\", f1)\n",
    "        print(\"AUC score:\", auc)\n",
    "\n",
    "        plot_confusion_matrix(cm, classes=(\"Background\", \"Pedestrian\"), normalize=True)\n",
    "        plot_ROC(t_labels, p_scores)\n",
    "    \n",
    "    return accuracy, precision, recall, f1, auc"
   ]
  },
  {
   "cell_type": "code",
   "execution_count": 83,
   "metadata": {},
   "outputs": [],
   "source": [
    "class LBPDescriptor():\n",
    "    def __init__(self, in_kernel_size=3, in_border_policy=cv2.BORDER_REPLICATE, in_block_size=16, in_block_step=8):\n",
    "        self.border_policy = in_border_policy\n",
    "        self.kernel_size = in_kernel_size\n",
    "        self.block_size = in_block_size\n",
    "        self.block_step = in_block_step\n",
    "        # Get the binary values to match the way numpy unwraps the matrix to the way LBP is described\n",
    "        # This is simply the \"weight\" in the binary number\n",
    "        self.LBP_bin_values = np.array([[128,64,32],[1,0,16],[2,4,8]], dtype='uint8')\n",
    "        \n",
    "    def compute_array(self, input_array):\n",
    "        descriptors = Parallel(n_jobs=-2)(delayed(lambda x:self.compute(x))(img) for img in log_progress(input_array, name=\"Descriptors:\"))\n",
    "        return np.array(descriptors, dtype='float32')\n",
    "    \n",
    "    def compute_block(self, input_block):\n",
    "        output_lbp_block = np.zeros(input_block.shape, dtype='uint8')\n",
    "        \n",
    "        border_size = int(1.0*self.kernel_size/2)\n",
    "        # The block is already the right size (should be!)\n",
    "        # extended_block = cv2.copyMakeBorder(input_block, border_size, border_size, border_size, border_size, self.border_policy)\n",
    "        extended_block = input_block\n",
    "        \n",
    "        # Compute only the \"inner\" part of the block, as the rest is a border\n",
    "        conv_start_x = border_size\n",
    "        conv_start_y = border_size\n",
    "        conv_end_x = input_block.shape[0] - border_size\n",
    "        conv_end_y = input_block.shape[1] - border_size\n",
    "\n",
    "        # Convolve the extended image computing the LBP descriptor at each point\n",
    "        for x in np.arange(conv_start_x, conv_end_x):\n",
    "            for y in np.arange(conv_start_y, conv_end_y):\n",
    "                half_kernel = int(self.kernel_size/2)\n",
    "                window = extended_block[x-half_kernel:x+half_kernel+1, y-half_kernel:y+half_kernel+1]\n",
    "                half_window = int(window.shape[0]/2)\n",
    "                window_mask = (window >= window[half_window,half_window])\n",
    "                score = np.sum(self.LBP_bin_values[window_mask])\n",
    "                output_lbp_block[x-conv_start_x,y-conv_start_y] = score\n",
    "        # Get the histograms, normalized using density=True\n",
    "        output_descriptor, _ = np.histogram(output_lbp_block, bins=np.arange(256), density=True)\n",
    "        \n",
    "        return output_descriptor\n",
    "    \n",
    "    \n",
    "    def compute(self, input_image):\n",
    "        # Change to BW\n",
    "        if(len(input_image.shape) > 2):\n",
    "            input_image = cv2.cvtColor(input_image, cv2.COLOR_RGB2GRAY)\n",
    "            \n",
    "        output_lbp = []\n",
    "        \n",
    "        # Extend the image borders\n",
    "        border_size = int(1.0*self.kernel_size/2)\n",
    "        extended_img = cv2.copyMakeBorder(input_image, border_size, border_size, border_size, border_size, self.border_policy)\n",
    "        \n",
    "        # Slide a window (each block) across the image and compute each LBP\n",
    "        for ii in np.arange(0, input_image.shape[0], self.block_step):\n",
    "            for jj in np.arange(0, input_image.shape[1], self.block_step):\n",
    "                block = extended_img[ii:(ii+2*border_size+self.block_size), jj:(jj+2*border_size+self.block_size)]\n",
    "                # If the block is \"full size\"\n",
    "                if(np.prod(block.shape) == ((self.block_size+2*border_size)**2)):\n",
    "                    lbp_block = self.compute_block(block)\n",
    "                    output_lbp.append(lbp_block)\n",
    "        # Reshape to flatten the array and add an extra dimension that the SVM opencv classifier requires\n",
    "        return np.array(output_lbp).reshape(-1,1)\n",
    "                        \n",
    "    def get_point_LBP(self, input_window):\n",
    "        # Compare the values to the central value of the window\n",
    "        half_window = int(input_window.shape[0]/2)\n",
    "        out_LBP = (input_window >= input_window[half_window, half_window])\n",
    "        return np.sum(self.LBP_bin_values[out_LBP])"
   ]
  },
  {
   "cell_type": "raw",
   "metadata": {
    "scrolled": true
   },
   "source": [
    "# Example to check the calculations...\n",
    "lbp_descriptor = LBPDescriptor()\n",
    "t  = np.arange(128*64).reshape(128,64)\n",
    "print(\"Original:\\n\", t)\n",
    "print(\"Extended:\\n\", cv2.copyMakeBorder(t, 1, 1, 1, 1, cv2.BORDER_REPLICATE))\n",
    "d = lbp_descriptor.compute(t)\n",
    "print(\"LBP with border_replicate:\\n\", d.shape)"
   ]
  },
  {
   "cell_type": "code",
   "execution_count": null,
   "metadata": {},
   "outputs": [],
   "source": []
  },
  {
   "cell_type": "code",
   "execution_count": 54,
   "metadata": {},
   "outputs": [
    {
     "name": "stdout",
     "output_type": "stream",
     "text": [
      "CPU times: user 764 ms, sys: 292 ms, total: 1.06 s\n",
      "Wall time: 1.55 s\n"
     ]
    }
   ],
   "source": [
    "%%time\n",
    "# Load the training data\n",
    "train_images, train_labels = load_data(path_positive_train, path_negative_train)\n",
    "\n",
    "# Load the test data\n",
    "test_images, test_labels = load_data(path_positive_test, path_negative_test)"
   ]
  },
  {
   "cell_type": "code",
   "execution_count": 55,
   "metadata": {},
   "outputs": [
    {
     "data": {
      "image/png": "[encoded data removed]",
      "text/plain": [
       "<PIL.Image.Image image mode=RGB size=64x128 at 0x7F5930E10438>"
      ]
     },
     "execution_count": 55,
     "metadata": {},
     "output_type": "execute_result"
    }
   ],
   "source": [
    "# Print an image to check it's alright\n",
    "PIL.Image.fromarray(train_images[0])"
   ]
  },
  {
   "cell_type": "code",
   "execution_count": 56,
   "metadata": {},
   "outputs": [],
   "source": [
    "# Get the descriptors\n",
    "hog = cv2.HOGDescriptor()\n",
    "lbp = LBPDescriptor()"
   ]
  },
  {
   "cell_type": "code",
   "execution_count": 57,
   "metadata": {},
   "outputs": [
    {
     "data": {
      "application/vnd.jupyter.widget-view+json": {
       "model_id": "36db3b558e1545f2938dc685e4dfae72",
       "version_major": 2,
       "version_minor": 0
      },
      "text/plain": [
       "VBox(children=(HTML(value=''), IntProgress(value=0, max=4306)))"
      ]
     },
     "metadata": {},
     "output_type": "display_data"
    },
    {
     "data": {
      "application/vnd.jupyter.widget-view+json": {
       "model_id": "71e324a42a474a8fbebe9ba1dc633c9b",
       "version_major": 2,
       "version_minor": 0
      },
      "text/plain": [
       "VBox(children=(HTML(value=''), IntProgress(value=0, max=1100)))"
      ]
     },
     "metadata": {},
     "output_type": "display_data"
    },
    {
     "name": "stdout",
     "output_type": "stream",
     "text": [
      "CPU times: user 1.48 s, sys: 64 ms, total: 1.55 s\n",
      "Wall time: 1.46 s\n"
     ]
    }
   ],
   "source": [
    "%%time\n",
    "# Compute the hog\n",
    "train_descriptors_hog = np.array([hog.compute(img) for img in log_progress(train_images, name='Descriptors')])\n",
    "test_descriptors_hog = np.array([hog.compute(img) for img in log_progress(test_images, name='Descriptors')])"
   ]
  },
  {
   "cell_type": "code",
   "execution_count": 58,
   "metadata": {
    "scrolled": true
   },
   "outputs": [
    {
     "name": "stdout",
     "output_type": "stream",
     "text": [
      "CPU times: user 3 µs, sys: 0 ns, total: 3 µs\n",
      "Wall time: 6.2 µs\n"
     ]
    }
   ],
   "source": [
    "%%time\n",
    "\n",
    "# train_descriptors_lbp = lbp.compute_array(train_images)\n",
    "# test_descriptors_lbp = lbp.compute_array(test_images)"
   ]
  },
  {
   "cell_type": "code",
   "execution_count": 59,
   "metadata": {},
   "outputs": [
    {
     "ename": "OSError",
     "evalue": "Unable to create file (unable to open file: name = 'data/LBP_descriptors', errno = 17, error message = 'File exists', flags = 15, o_flags = c2)",
     "output_type": "error",
     "traceback": [
      "\u001b[0;31m---------------------------------------------------------------------------\u001b[0m",
      "\u001b[0;31mOSError\u001b[0m                                   Traceback (most recent call last)",
      "\u001b[0;32m<ipython-input-59-bc045ee8c1aa>\u001b[0m in \u001b[0;36m<module>\u001b[0;34m\u001b[0m\n\u001b[1;32m      1\u001b[0m \u001b[0;31m# Skip the pain of extracting the values D8 (15m ~)\u001b[0m\u001b[0;34m\u001b[0m\u001b[0;34m\u001b[0m\u001b[0;34m\u001b[0m\u001b[0m\n\u001b[0;32m----> 2\u001b[0;31m \u001b[0mfo\u001b[0m \u001b[0;34m=\u001b[0m \u001b[0mh5py\u001b[0m\u001b[0;34m.\u001b[0m\u001b[0mFile\u001b[0m\u001b[0;34m(\u001b[0m\u001b[0;34m\"data/LBP_descriptors\"\u001b[0m\u001b[0;34m,\u001b[0m \u001b[0;34m\"x\"\u001b[0m\u001b[0;34m)\u001b[0m\u001b[0;34m\u001b[0m\u001b[0;34m\u001b[0m\u001b[0m\n\u001b[0m\u001b[1;32m      3\u001b[0m \u001b[0mfo\u001b[0m\u001b[0;34m.\u001b[0m\u001b[0mcreate_dataset\u001b[0m\u001b[0;34m(\u001b[0m\u001b[0;34m\"train\"\u001b[0m\u001b[0;34m,\u001b[0m \u001b[0mdata\u001b[0m\u001b[0;34m=\u001b[0m\u001b[0mtrain_descriptors_lbp\u001b[0m\u001b[0;34m,\u001b[0m \u001b[0mchunks\u001b[0m\u001b[0;34m=\u001b[0m\u001b[0;32mTrue\u001b[0m\u001b[0;34m,\u001b[0m \u001b[0mcompression\u001b[0m\u001b[0;34m=\u001b[0m\u001b[0;34m'lzf'\u001b[0m\u001b[0;34m)\u001b[0m\u001b[0;34m\u001b[0m\u001b[0;34m\u001b[0m\u001b[0m\n\u001b[1;32m      4\u001b[0m \u001b[0mfo\u001b[0m\u001b[0;34m.\u001b[0m\u001b[0mcreate_dataset\u001b[0m\u001b[0;34m(\u001b[0m\u001b[0;34m\"test\"\u001b[0m\u001b[0;34m,\u001b[0m \u001b[0mdata\u001b[0m\u001b[0;34m=\u001b[0m\u001b[0mtest_descriptors_lbp\u001b[0m\u001b[0;34m,\u001b[0m \u001b[0mchunks\u001b[0m\u001b[0;34m=\u001b[0m\u001b[0;32mTrue\u001b[0m\u001b[0;34m,\u001b[0m \u001b[0mcompression\u001b[0m\u001b[0;34m=\u001b[0m\u001b[0;34m'lzf'\u001b[0m\u001b[0;34m)\u001b[0m\u001b[0;34m\u001b[0m\u001b[0;34m\u001b[0m\u001b[0m\n\u001b[1;32m      5\u001b[0m \u001b[0mfo\u001b[0m\u001b[0;34m.\u001b[0m\u001b[0mclose\u001b[0m\u001b[0;34m(\u001b[0m\u001b[0;34m)\u001b[0m\u001b[0;34m\u001b[0m\u001b[0;34m\u001b[0m\u001b[0m\n",
      "\u001b[0;32m~/anaconda3/envs/vision/lib/python3.7/site-packages/h5py/_hl/files.py\u001b[0m in \u001b[0;36m__init__\u001b[0;34m(self, name, mode, driver, libver, userblock_size, swmr, rdcc_nslots, rdcc_nbytes, rdcc_w0, track_order, **kwds)\u001b[0m\n\u001b[1;32m    392\u001b[0m                 fid = make_fid(name, mode, userblock_size,\n\u001b[1;32m    393\u001b[0m                                \u001b[0mfapl\u001b[0m\u001b[0;34m,\u001b[0m \u001b[0mfcpl\u001b[0m\u001b[0;34m=\u001b[0m\u001b[0mmake_fcpl\u001b[0m\u001b[0;34m(\u001b[0m\u001b[0mtrack_order\u001b[0m\u001b[0;34m=\u001b[0m\u001b[0mtrack_order\u001b[0m\u001b[0;34m)\u001b[0m\u001b[0;34m,\u001b[0m\u001b[0;34m\u001b[0m\u001b[0;34m\u001b[0m\u001b[0m\n\u001b[0;32m--> 394\u001b[0;31m                                swmr=swmr)\n\u001b[0m\u001b[1;32m    395\u001b[0m \u001b[0;34m\u001b[0m\u001b[0m\n\u001b[1;32m    396\u001b[0m             \u001b[0;32mif\u001b[0m \u001b[0mswmr_support\u001b[0m\u001b[0;34m:\u001b[0m\u001b[0;34m\u001b[0m\u001b[0;34m\u001b[0m\u001b[0m\n",
      "\u001b[0;32m~/anaconda3/envs/vision/lib/python3.7/site-packages/h5py/_hl/files.py\u001b[0m in \u001b[0;36mmake_fid\u001b[0;34m(name, mode, userblock_size, fapl, fcpl, swmr)\u001b[0m\n\u001b[1;32m    172\u001b[0m         \u001b[0mfid\u001b[0m \u001b[0;34m=\u001b[0m \u001b[0mh5f\u001b[0m\u001b[0;34m.\u001b[0m\u001b[0mopen\u001b[0m\u001b[0;34m(\u001b[0m\u001b[0mname\u001b[0m\u001b[0;34m,\u001b[0m \u001b[0mh5f\u001b[0m\u001b[0;34m.\u001b[0m\u001b[0mACC_RDWR\u001b[0m\u001b[0;34m,\u001b[0m \u001b[0mfapl\u001b[0m\u001b[0;34m=\u001b[0m\u001b[0mfapl\u001b[0m\u001b[0;34m)\u001b[0m\u001b[0;34m\u001b[0m\u001b[0;34m\u001b[0m\u001b[0m\n\u001b[1;32m    173\u001b[0m     \u001b[0;32melif\u001b[0m \u001b[0mmode\u001b[0m \u001b[0;32min\u001b[0m \u001b[0;34m[\u001b[0m\u001b[0;34m'w-'\u001b[0m\u001b[0;34m,\u001b[0m \u001b[0;34m'x'\u001b[0m\u001b[0;34m]\u001b[0m\u001b[0;34m:\u001b[0m\u001b[0;34m\u001b[0m\u001b[0;34m\u001b[0m\u001b[0m\n\u001b[0;32m--> 174\u001b[0;31m         \u001b[0mfid\u001b[0m \u001b[0;34m=\u001b[0m \u001b[0mh5f\u001b[0m\u001b[0;34m.\u001b[0m\u001b[0mcreate\u001b[0m\u001b[0;34m(\u001b[0m\u001b[0mname\u001b[0m\u001b[0;34m,\u001b[0m \u001b[0mh5f\u001b[0m\u001b[0;34m.\u001b[0m\u001b[0mACC_EXCL\u001b[0m\u001b[0;34m,\u001b[0m \u001b[0mfapl\u001b[0m\u001b[0;34m=\u001b[0m\u001b[0mfapl\u001b[0m\u001b[0;34m,\u001b[0m \u001b[0mfcpl\u001b[0m\u001b[0;34m=\u001b[0m\u001b[0mfcpl\u001b[0m\u001b[0;34m)\u001b[0m\u001b[0;34m\u001b[0m\u001b[0;34m\u001b[0m\u001b[0m\n\u001b[0m\u001b[1;32m    175\u001b[0m     \u001b[0;32melif\u001b[0m \u001b[0mmode\u001b[0m \u001b[0;34m==\u001b[0m \u001b[0;34m'w'\u001b[0m\u001b[0;34m:\u001b[0m\u001b[0;34m\u001b[0m\u001b[0;34m\u001b[0m\u001b[0m\n\u001b[1;32m    176\u001b[0m         \u001b[0mfid\u001b[0m \u001b[0;34m=\u001b[0m \u001b[0mh5f\u001b[0m\u001b[0;34m.\u001b[0m\u001b[0mcreate\u001b[0m\u001b[0;34m(\u001b[0m\u001b[0mname\u001b[0m\u001b[0;34m,\u001b[0m \u001b[0mh5f\u001b[0m\u001b[0;34m.\u001b[0m\u001b[0mACC_TRUNC\u001b[0m\u001b[0;34m,\u001b[0m \u001b[0mfapl\u001b[0m\u001b[0;34m=\u001b[0m\u001b[0mfapl\u001b[0m\u001b[0;34m,\u001b[0m \u001b[0mfcpl\u001b[0m\u001b[0;34m=\u001b[0m\u001b[0mfcpl\u001b[0m\u001b[0;34m)\u001b[0m\u001b[0;34m\u001b[0m\u001b[0;34m\u001b[0m\u001b[0m\n",
      "\u001b[0;32mh5py/_objects.pyx\u001b[0m in \u001b[0;36mh5py._objects.with_phil.wrapper\u001b[0;34m()\u001b[0m\n",
      "\u001b[0;32mh5py/_objects.pyx\u001b[0m in \u001b[0;36mh5py._objects.with_phil.wrapper\u001b[0;34m()\u001b[0m\n",
      "\u001b[0;32mh5py/h5f.pyx\u001b[0m in \u001b[0;36mh5py.h5f.create\u001b[0;34m()\u001b[0m\n",
      "\u001b[0;31mOSError\u001b[0m: Unable to create file (unable to open file: name = 'data/LBP_descriptors', errno = 17, error message = 'File exists', flags = 15, o_flags = c2)"
     ]
    }
   ],
   "source": [
    "# Skip the pain of extracting the values D8 (15m ~)\n",
    "fo = h5py.File(\"data/LBP_descriptors\", \"x\")\n",
    "fo.create_dataset(\"train\", data=train_descriptors_lbp, chunks=True, compression='lzf')\n",
    "fo.create_dataset(\"test\", data=test_descriptors_lbp, chunks=True, compression='lzf')\n",
    "fo.close()"
   ]
  },
  {
   "cell_type": "code",
   "execution_count": 60,
   "metadata": {},
   "outputs": [
    {
     "name": "stdout",
     "output_type": "stream",
     "text": [
      "CPU times: user 1.37 s, sys: 104 ms, total: 1.48 s\n",
      "Wall time: 1.47 s\n"
     ]
    }
   ],
   "source": [
    "%%time\n",
    "# Read from the dataset\n",
    "fi = h5py.File(\"data/LBP_descriptors\", \"r\")\n",
    "train_descriptors_lbp = fi[\"train\"][:]\n",
    "test_descriptors_lbp = fi[\"test\"][:]\n",
    "fi.close()"
   ]
  },
  {
   "cell_type": "code",
   "execution_count": 61,
   "metadata": {},
   "outputs": [],
   "source": [
    "# Put all together to use cross validation\n",
    "all_hog = np.concatenate([train_descriptors_hog, test_descriptors_hog], axis=0)\n",
    "all_lbp = np.concatenate([train_descriptors_lbp, test_descriptors_lbp], axis=0)\n",
    "all_labels = np.concatenate([train_labels, test_labels], axis=0)"
   ]
  },
  {
   "cell_type": "code",
   "execution_count": 84,
   "metadata": {},
   "outputs": [],
   "source": [
    "def get_model(svm_type = cv2.ml.SVM_C_SVC, kernel_type = cv2.ml.SVM_LINEAR, degree = None, gamma=None, Cval = None, class_weights=None):\n",
    "    # Build and return a classifier\n",
    "    model = cv2.ml.SVM_create()\n",
    "    # Apply the parameters\n",
    "    model.setType(svm_type)\n",
    "    model.setKernel(kernel_type)\n",
    "    if(not degree is None):\n",
    "        model.setDegree(degree)\n",
    "    if(not gamma is None):\n",
    "        model.setGamma(gamma)\n",
    "    if(not Cval is None):\n",
    "        model.setC(Cval)\n",
    "    if(not class_weights is None):\n",
    "        model.setClassWeights(class_weights)\n",
    "    \n",
    "    return model"
   ]
  },
  {
   "cell_type": "code",
   "execution_count": null,
   "metadata": {},
   "outputs": [],
   "source": []
  },
  {
   "cell_type": "code",
   "execution_count": 143,
   "metadata": {},
   "outputs": [],
   "source": [
    "train_data = train_descriptors_hog\n",
    "test_data = test_descriptors_hog"
   ]
  },
  {
   "cell_type": "code",
   "execution_count": 144,
   "metadata": {},
   "outputs": [
    {
     "name": "stdout",
     "output_type": "stream",
     "text": [
      "CPU times: user 4.15 s, sys: 24 ms, total: 4.17 s\n",
      "Wall time: 4.17 s\n"
     ]
    }
   ],
   "source": [
    "%%time\n",
    "model = get_model()\n",
    "# Train the classifier\n",
    "model.train(train_data, cv2.ml.ROW_SAMPLE, train_labels)"
   ]
  },
  {
   "cell_type": "markdown",
   "metadata": {},
   "source": [
    "### Ejercicio 1 (obligatorio): Uso de SVM + HoG"
   ]
  },
  {
   "cell_type": "markdown",
   "metadata": {},
   "source": [
    "### Objetivo 1: Función para reportar la calidad de un clasificador"
   ]
  },
  {
   "cell_type": "code",
   "execution_count": 198,
   "metadata": {
    "scrolled": false
   },
   "outputs": [
    {
     "name": "stdout",
     "output_type": "stream",
     "text": [
      "Accuracy: 0.9672727272727273\n",
      "Precision: 0.9734693877551021\n",
      "Recall: 0.954\n",
      "F1 score: 0.9636363636363635\n",
      "AUC score: 0.9931533333333332\n",
      "Confusion matrix:\n",
      " [[587  13]\n",
      " [ 23 477]]\n"
     ]
    },
    {
     "data": {
      "image/png": "[encoded data removed]",
      "text/plain": [
       "<Figure size 432x288 with 1 Axes>"
      ]
     },
     "metadata": {
      "needs_background": "light"
     },
     "output_type": "display_data"
    },
    {
     "data": {
      "image/png": "[encoded data removed]",
      "text/plain": [
       "<Figure size 432x288 with 1 Axes>"
      ]
     },
     "metadata": {
      "needs_background": "light"
     },
     "output_type": "display_data"
    }
   ],
   "source": [
    "_ = test_model(model, test_data, test_labels, prints=True)"
   ]
  },
  {
   "cell_type": "markdown",
   "metadata": {},
   "source": [
    "### Objetivo 2: Implementar estrategia de validación (en este caso 5-fold cross validation)"
   ]
  },
  {
   "cell_type": "code",
   "execution_count": 259,
   "metadata": {
    "scrolled": true
   },
   "outputs": [],
   "source": [
    "# Small helper function\n",
    "def train_test_model(model, train, test):\n",
    "    # Split the data\n",
    "    train_data, train_labels = train\n",
    "    test_data, test_labels = test\n",
    "    # Train the model\n",
    "    model.train(train_data, cv2.ml.ROW_SAMPLE, train_labels)\n",
    "    # Test the model\n",
    "    return test_model(model, test_data, test_labels)\n",
    "\n",
    "# CV Function\n",
    "def crossval_dset(data, labels, model_generator, nfolds=5):\n",
    "    # Define the k-fold cross validation object\n",
    "    skf = StratifiedKFold(n_splits=nfolds, shuffle=True)\n",
    "    skf.get_n_splits(data, labels)\n",
    "    results = []\n",
    "    \n",
    "    for train_idx, test_idx in log_progress(skf.split(all_data, all_labels), size=nfolds, name=\"Train/Testing folds\"):\n",
    "        # Split the data\n",
    "        train_data = data[train_idx]\n",
    "        train_labels = labels[train_idx]\n",
    "        test_data = data[test_idx]\n",
    "        test_labels = labels[test_idx]\n",
    "        # Get a model\n",
    "        model_cv = model_generator()\n",
    "        # Train and test the model, save the results, and iterate\n",
    "        results.append(train_test_model(model_cv, (train_data, train_labels), (test_data, test_labels)))\n",
    "    \n",
    "    return np.array(results)"
   ]
  },
  {
   "cell_type": "code",
   "execution_count": null,
   "metadata": {},
   "outputs": [],
   "source": [
    "%%time\n",
    "\n",
    "# Select a data source\n",
    "all_data = all_hog\n",
    "# all_data = all_lbp\n",
    "\n",
    "# Modify model_f to get a fresh model every time\n",
    "model_f = lambda:get_model()\n",
    "\n",
    "# Perform cross validation\n",
    "results_0 = crossval_dset(all_data, all_labels, model_f)\n",
    "\n",
    "# Resultados con parámetros por defecto\n",
    "print(\"Means(%)\", 100*np.mean(results_0, axis=1))\n",
    "print(\"STDev(%)\", 100*np.std(results_0, axis=1))"
   ]
  },
  {
   "cell_type": "markdown",
   "metadata": {},
   "source": [
    "### Objetivo 3: Exploración del espacio de hiper-parámetros"
   ]
  },
  {
   "cell_type": "code",
   "execution_count": 208,
   "metadata": {},
   "outputs": [],
   "source": [
    "# Select a data source\n",
    "# HOG\n",
    "all_data = all_hog\n",
    "# LBP\n",
    "# all_data = all_lbp\n",
    "# HOG + LBP Concatenated\n",
    "# all_data = np.concatenate([all_hog, all_lbp], axis=1)"
   ]
  },
  {
   "cell_type": "code",
   "execution_count": 124,
   "metadata": {},
   "outputs": [
    {
     "data": {
      "application/vnd.jupyter.widget-view+json": {
       "model_id": "",
       "version_major": 2,
       "version_minor": 0
      },
      "text/plain": [
       "VBox(children=(HTML(value=''), IntProgress(value=0, max=5)))"
      ]
     },
     "metadata": {},
     "output_type": "display_data"
    },
    {
     "name": "stdout",
     "output_type": "stream",
     "text": [
      "Means(%) [96.19922232 96.21688541 95.7852825  95.50684983 95.96412127]\n",
      "STDev(%) [0.54113254 0.23225156 0.66813829 0.3901401  1.04047878]\n",
      "CPU times: user 21.4 s, sys: 192 ms, total: 21.6 s\n",
      "Wall time: 21.5 s\n"
     ]
    }
   ],
   "source": [
    "%%time\n",
    "# Kernel lineal\n",
    "\n",
    "# Modify model_f to get a fresh model every time\n",
    "model_f = lambda:get_model(kernel_type=cv2.ml.SVM_LINEAR)\n",
    "\n",
    "# Perform cross validation\n",
    "results_hog_linear = crossval_dset(all_data, all_labels, model_f)\n",
    "print(\"Means(%)\", 100*np.mean(results_hog_linear, axis=1))\n",
    "print(\"STDev(%)\", 100*np.std(results_hog_linear, axis=1))"
   ]
  },
  {
   "cell_type": "code",
   "execution_count": 125,
   "metadata": {},
   "outputs": [
    {
     "data": {
      "application/vnd.jupyter.widget-view+json": {
       "model_id": "",
       "version_major": 2,
       "version_minor": 0
      },
      "text/plain": [
       "VBox(children=(HTML(value=''), IntProgress(value=0, max=5)))"
      ]
     },
     "metadata": {},
     "output_type": "display_data"
    },
    {
     "name": "stdout",
     "output_type": "stream",
     "text": [
      "Means(%) [97.08149088 97.0658735  97.47702852 97.179241   97.21143942]\n",
      "STDev(%) [0.84651112 1.10748895 0.8486452  0.78418854 0.1912221 ]\n",
      "CPU times: user 38.5 s, sys: 196 ms, total: 38.7 s\n",
      "Wall time: 27.3 s\n"
     ]
    }
   ],
   "source": [
    "%%time\n",
    "# Kernel polinómico grado 2\n",
    "\n",
    "# Modify model_f to get a fresh model every time\n",
    "model_f = lambda:get_model(kernel_type=cv2.ml.SVM_POLY, degree=2)\n",
    "\n",
    "# Perform cross validation\n",
    "results_hog_poly_2 = crossval_dset(all_data, all_labels, model_f)\n",
    "print(\"Means(%)\", 100*np.mean(results_hog_poly_2, axis=1))\n",
    "print(\"STDev(%)\", 100*np.std(results_hog_poly_2, axis=1))"
   ]
  },
  {
   "cell_type": "code",
   "execution_count": 142,
   "metadata": {},
   "outputs": [
    {
     "data": {
      "application/vnd.jupyter.widget-view+json": {
       "model_id": "",
       "version_major": 2,
       "version_minor": 0
      },
      "text/plain": [
       "VBox(children=(HTML(value=''), IntProgress(value=0, max=5)))"
      ]
     },
     "metadata": {},
     "output_type": "display_data"
    },
    {
     "name": "stdout",
     "output_type": "stream",
     "text": [
      "Means(%) [98.33766453 98.81377381 98.32788496 95.9747584  98.22536653]\n",
      "STDev(%) [0.45654942 0.14456583 0.33371173 1.60293032 0.27412842]\n",
      "CPU times: user 2min 54s, sys: 1.2 s, total: 2min 55s\n",
      "Wall time: 2min 9s\n"
     ]
    }
   ],
   "source": [
    "%%time\n",
    "# Kernel polinómico grado 5\n",
    "\n",
    "# Modify model_f to get a fresh model every time\n",
    "model_f = lambda:get_model(kernel_type=cv2.ml.SVM_POLY, degree=5)\n",
    "\n",
    "# Perform cross validation\n",
    "results_hog_poly_5 = crossval_dset(all_data, all_labels, model_f)\n",
    "print(\"Means(%)\", 100*np.mean(results_hog_poly_5, axis=1))\n",
    "print(\"STDev(%)\", 100*np.std(results_hog_poly_5, axis=1))"
   ]
  },
  {
   "cell_type": "code",
   "execution_count": 128,
   "metadata": {},
   "outputs": [
    {
     "data": {
      "application/vnd.jupyter.widget-view+json": {
       "model_id": "",
       "version_major": 2,
       "version_minor": 0
      },
      "text/plain": [
       "VBox(children=(HTML(value=''), IntProgress(value=0, max=5)))"
      ]
     },
     "metadata": {},
     "output_type": "display_data"
    },
    {
     "name": "stdout",
     "output_type": "stream",
     "text": [
      "Means(%) [60.30688089 60.27668298 52.92604226 60.32810982 52.32334733]\n",
      "STDev(%) [20.80118792 20.81570716  2.64406659 20.78813391  2.47038663]\n",
      "CPU times: user 1min 30s, sys: 264 ms, total: 1min 30s\n",
      "Wall time: 1min 3s\n"
     ]
    }
   ],
   "source": [
    "%%time\n",
    "# Kernel sigmoidal\n",
    "\n",
    "# Modify model_f to get a fresh model every time\n",
    "model_f = lambda:get_model(kernel_type=cv2.ml.SVM_SIGMOID)\n",
    "\n",
    "# Perform cross validation\n",
    "results_hog_sigmoid = crossval_dset(all_data, all_labels, model_f)\n",
    "print(\"Means(%)\", 100*np.mean(results_hog_sigmoid, axis=1))\n",
    "print(\"STDev(%)\", 100*np.std(results_hog_sigmoid, axis=1))"
   ]
  },
  {
   "cell_type": "code",
   "execution_count": 129,
   "metadata": {},
   "outputs": [
    {
     "data": {
      "application/vnd.jupyter.widget-view+json": {
       "model_id": "",
       "version_major": 2,
       "version_minor": 0
      },
      "text/plain": [
       "VBox(children=(HTML(value=''), IntProgress(value=0, max=5)))"
      ]
     },
     "metadata": {},
     "output_type": "display_data"
    },
    {
     "name": "stdout",
     "output_type": "stream",
     "text": [
      "Means(%) [88.81318638 90.52877459 85.87272344 85.97429956 86.33940243]\n",
      "STDev(%) [5.23536587 3.68943063 6.54240902 6.76248074 5.59885592]\n",
      "CPU times: user 2min 25s, sys: 240 ms, total: 2min 25s\n",
      "Wall time: 1min 40s\n"
     ]
    }
   ],
   "source": [
    "%%time\n",
    "# Kernel radial\n",
    "\n",
    "# Modify model_f to get a fresh model every time\n",
    "model_f = lambda:get_model(kernel_type=cv2.ml.SVM_RBF)\n",
    "\n",
    "# Perform cross validation\n",
    "results_hog_radial = crossval_dset(all_data, all_labels, model_f)\n",
    "print(\"Means(%)\", 100*np.mean(results_hog_radial, axis=1))\n",
    "print(\"STDev(%)\", 100*np.std(results_hog_radial, axis=1))"
   ]
  },
  {
   "cell_type": "code",
   "execution_count": null,
   "metadata": {},
   "outputs": [],
   "source": []
  },
  {
   "cell_type": "markdown",
   "metadata": {},
   "source": [
    "### Vamos a continuar con el kernel polinómico, el mejor resultado con parámetros por defecto, cambiando C"
   ]
  },
  {
   "cell_type": "code",
   "execution_count": 209,
   "metadata": {},
   "outputs": [
    {
     "data": {
      "application/vnd.jupyter.widget-view+json": {
       "model_id": "",
       "version_major": 2,
       "version_minor": 0
      },
      "text/plain": [
       "VBox(children=(HTML(value=''), IntProgress(value=0, max=5)))"
      ]
     },
     "metadata": {},
     "output_type": "display_data"
    },
    {
     "name": "stdout",
     "output_type": "stream",
     "text": [
      "Means(%) [97.55429984 98.58524443 97.91797689 97.90586146 97.57451277]\n",
      "STDev(%) [1.58552493 0.85008685 1.4367012  1.05798662 1.33914093]\n",
      "CPU times: user 50 s, sys: 140 ms, total: 50.1 s\n",
      "Wall time: 35.3 s\n"
     ]
    }
   ],
   "source": [
    "%%time\n",
    "# Kernel polinómico grado 5\n",
    "\n",
    "# Modify model_f to get a fresh model every time\n",
    "model_f = lambda:get_model(kernel_type=cv2.ml.SVM_POLY, degree=5, Cval=0.125)\n",
    "\n",
    "# Perform cross validation\n",
    "results_hog_poly_5 = crossval_dset(all_data, all_labels, model_f)\n",
    "print(\"Means(%)\", 100*np.mean(results_hog_poly_5, axis=1))\n",
    "print(\"STDev(%)\", 100*np.std(results_hog_poly_5, axis=1))"
   ]
  },
  {
   "cell_type": "code",
   "execution_count": 210,
   "metadata": {},
   "outputs": [
    {
     "data": {
      "application/vnd.jupyter.widget-view+json": {
       "model_id": "",
       "version_major": 2,
       "version_minor": 0
      },
      "text/plain": [
       "VBox(children=(HTML(value=''), IntProgress(value=0, max=5)))"
      ]
     },
     "metadata": {},
     "output_type": "display_data"
    },
    {
     "name": "stdout",
     "output_type": "stream",
     "text": [
      "Means(%) [98.13173923 97.6341127  97.48585953 98.48769221 97.10832335]\n",
      "STDev(%) [1.16121131 1.32009565 1.40223214 1.10803067 1.44145896]\n",
      "CPU times: user 49.7 s, sys: 136 ms, total: 49.8 s\n",
      "Wall time: 35.1 s\n"
     ]
    }
   ],
   "source": [
    "%%time\n",
    "# Kernel polinómico grado 5\n",
    "\n",
    "# Modify model_f to get a fresh model every time\n",
    "model_f = lambda:get_model(kernel_type=cv2.ml.SVM_POLY, degree=5, Cval=0.5)\n",
    "\n",
    "# Perform cross validation\n",
    "results_hog_poly_5 = crossval_dset(all_data, all_labels, model_f)\n",
    "print(\"Means(%)\", 100*np.mean(results_hog_poly_5, axis=1))\n",
    "print(\"STDev(%)\", 100*np.std(results_hog_poly_5, axis=1))"
   ]
  },
  {
   "cell_type": "code",
   "execution_count": 211,
   "metadata": {},
   "outputs": [
    {
     "data": {
      "application/vnd.jupyter.widget-view+json": {
       "model_id": "",
       "version_major": 2,
       "version_minor": 0
      },
      "text/plain": [
       "VBox(children=(HTML(value=''), IntProgress(value=0, max=5)))"
      ]
     },
     "metadata": {},
     "output_type": "display_data"
    },
    {
     "name": "stdout",
     "output_type": "stream",
     "text": [
      "Means(%) [97.90598728 98.41841198 97.7348873  97.90350491 97.3845305 ]\n",
      "STDev(%) [1.31315547 0.99462734 1.27348145 1.41849274 1.63812176]\n",
      "CPU times: user 50 s, sys: 168 ms, total: 50.2 s\n",
      "Wall time: 35.4 s\n"
     ]
    }
   ],
   "source": [
    "%%time\n",
    "# Kernel polinómico grado 5\n",
    "\n",
    "# Modify model_f to get a fresh model every time\n",
    "model_f = lambda:get_model(kernel_type=cv2.ml.SVM_POLY, degree=5, Cval=1.0)\n",
    "\n",
    "# Perform cross validation\n",
    "results_hog_poly_5 = crossval_dset(all_data, all_labels, model_f)\n",
    "print(\"Means(%)\", 100*np.mean(results_hog_poly_5, axis=1))\n",
    "print(\"STDev(%)\", 100*np.std(results_hog_poly_5, axis=1))"
   ]
  },
  {
   "cell_type": "code",
   "execution_count": 212,
   "metadata": {},
   "outputs": [
    {
     "data": {
      "application/vnd.jupyter.widget-view+json": {
       "model_id": "",
       "version_major": 2,
       "version_minor": 0
      },
      "text/plain": [
       "VBox(children=(HTML(value=''), IntProgress(value=0, max=5)))"
      ]
     },
     "metadata": {},
     "output_type": "display_data"
    },
    {
     "name": "stdout",
     "output_type": "stream",
     "text": [
      "Means(%) [97.7709965  98.07106903 97.3763002  98.48201968 97.64276819]\n",
      "STDev(%) [1.40804563 1.37498039 1.5287613  0.72336479 1.33266078]\n",
      "CPU times: user 50 s, sys: 116 ms, total: 50.1 s\n",
      "Wall time: 35.3 s\n"
     ]
    }
   ],
   "source": [
    "%%time\n",
    "# Kernel polinómico grado 5\n",
    "\n",
    "# Modify model_f to get a fresh model every time\n",
    "model_f = lambda:get_model(kernel_type=cv2.ml.SVM_POLY, degree=5, Cval=2.0)\n",
    "\n",
    "# Perform cross validation\n",
    "results_hog_poly_5 = crossval_dset(all_data, all_labels, model_f)\n",
    "print(\"Means(%)\", 100*np.mean(results_hog_poly_5, axis=1))\n",
    "print(\"STDev(%)\", 100*np.std(results_hog_poly_5, axis=1))"
   ]
  },
  {
   "cell_type": "code",
   "execution_count": 213,
   "metadata": {},
   "outputs": [
    {
     "data": {
      "application/vnd.jupyter.widget-view+json": {
       "model_id": "",
       "version_major": 2,
       "version_minor": 0
      },
      "text/plain": [
       "VBox(children=(HTML(value=''), IntProgress(value=0, max=5)))"
      ]
     },
     "metadata": {},
     "output_type": "display_data"
    },
    {
     "name": "stdout",
     "output_type": "stream",
     "text": [
      "Means(%) [98.56827467 98.06332243 97.56521141 97.82619674 97.30423702]\n",
      "STDev(%) [0.73201259 1.16118966 1.41364331 1.21408635 1.71666995]\n",
      "CPU times: user 49.9 s, sys: 152 ms, total: 50 s\n",
      "Wall time: 35.2 s\n"
     ]
    }
   ],
   "source": [
    "%%time\n",
    "# Kernel polinómico grado 5\n",
    "\n",
    "# Modify model_f to get a fresh model every time\n",
    "model_f = lambda:get_model(kernel_type=cv2.ml.SVM_POLY, degree=5, Cval=8.0)\n",
    "\n",
    "# Perform cross validation\n",
    "results_hog_poly_5 = crossval_dset(all_data, all_labels, model_f)\n",
    "print(\"Means(%)\", 100*np.mean(results_hog_poly_5, axis=1))\n",
    "print(\"STDev(%)\", 100*np.std(results_hog_poly_5, axis=1))"
   ]
  },
  {
   "cell_type": "code",
   "execution_count": null,
   "metadata": {},
   "outputs": [],
   "source": []
  },
  {
   "cell_type": "markdown",
   "metadata": {},
   "source": [
    "### Ejercicio 2 (obligatorio): Uso de SVM + LBP básico"
   ]
  },
  {
   "cell_type": "code",
   "execution_count": 273,
   "metadata": {},
   "outputs": [],
   "source": [
    "# Select a data source\n",
    "# HOG\n",
    "# all_data = all_hog\n",
    "# LBP\n",
    "all_data = all_lbp\n",
    "# HOG + LBP Concatenated\n",
    "# all_data = np.concatenate([all_hog, all_lbp], axis=1)"
   ]
  },
  {
   "cell_type": "code",
   "execution_count": 215,
   "metadata": {},
   "outputs": [
    {
     "data": {
      "application/vnd.jupyter.widget-view+json": {
       "model_id": "",
       "version_major": 2,
       "version_minor": 0
      },
      "text/plain": [
       "VBox(children=(HTML(value=''), IntProgress(value=0, max=5)))"
      ]
     },
     "metadata": {},
     "output_type": "display_data"
    },
    {
     "name": "stdout",
     "output_type": "stream",
     "text": [
      "Means(%) [97.93490409 97.83481316 98.81765617 98.35051631 97.82858121]\n",
      "STDev(%) [1.09496484 0.91621954 0.53511995 0.74079311 0.90384852]\n",
      "CPU times: user 2min 23s, sys: 1.2 s, total: 2min 24s\n",
      "Wall time: 2min 24s\n"
     ]
    }
   ],
   "source": [
    "%%time\n",
    "# Kernel lineal\n",
    "\n",
    "# Modify model_f to get a fresh model every time\n",
    "model_f = lambda:get_model(kernel_type=cv2.ml.SVM_LINEAR)\n",
    "\n",
    "# Perform cross validation\n",
    "results_lbp_linear = crossval_dset(all_data, all_labels, model_f)\n",
    "print(\"Means(%)\", 100*np.mean(results_lbp_linear, axis=1))\n",
    "print(\"STDev(%)\", 100*np.std(results_lbp_linear, axis=1))"
   ]
  },
  {
   "cell_type": "code",
   "execution_count": 216,
   "metadata": {},
   "outputs": [
    {
     "data": {
      "application/vnd.jupyter.widget-view+json": {
       "model_id": "",
       "version_major": 2,
       "version_minor": 0
      },
      "text/plain": [
       "VBox(children=(HTML(value=''), IntProgress(value=0, max=5)))"
      ]
     },
     "metadata": {},
     "output_type": "display_data"
    },
    {
     "name": "stdout",
     "output_type": "stream",
     "text": [
      "Means(%) [98.07366283 99.08565349 98.52686978 98.19771702 98.77892838]\n",
      "STDev(%) [0.87032338 0.39800751 0.70303609 1.16810086 0.58534665]\n",
      "CPU times: user 3min 25s, sys: 1.21 s, total: 3min 27s\n",
      "Wall time: 2min 30s\n"
     ]
    }
   ],
   "source": [
    "%%time\n",
    "# Kernel polinómico grado 2\n",
    "\n",
    "# Modify model_f to get a fresh model every time\n",
    "model_f = lambda:get_model(kernel_type=cv2.ml.SVM_POLY, degree=2)\n",
    "\n",
    "# Perform cross validation\n",
    "results_lbp_poly_2 = crossval_dset(all_data, all_labels, model_f)\n",
    "print(\"Means(%)\", 100*np.mean(results_lbp_poly_2, axis=1))\n",
    "print(\"STDev(%)\", 100*np.std(results_lbp_poly_2, axis=1))"
   ]
  },
  {
   "cell_type": "code",
   "execution_count": 217,
   "metadata": {
    "scrolled": true
   },
   "outputs": [
    {
     "data": {
      "application/vnd.jupyter.widget-view+json": {
       "model_id": "",
       "version_major": 2,
       "version_minor": 0
      },
      "text/plain": [
       "VBox(children=(HTML(value=''), IntProgress(value=0, max=5)))"
      ]
     },
     "metadata": {},
     "output_type": "display_data"
    },
    {
     "name": "stdout",
     "output_type": "stream",
     "text": [
      "Means(%) [98.30802781 98.32243719 98.47331413 98.45600315 98.61878255]\n",
      "STDev(%) [0.65065802 0.79714848 1.01268015 0.98801031 0.85512114]\n",
      "CPU times: user 3min 9s, sys: 1.08 s, total: 3min 10s\n",
      "Wall time: 2min 20s\n"
     ]
    }
   ],
   "source": [
    "%%time\n",
    "# Kernel polinómico grado 5\n",
    "\n",
    "# Modify model_f to get a fresh model every time\n",
    "model_f = lambda:get_model(kernel_type=cv2.ml.SVM_POLY, degree=5)\n",
    "\n",
    "# Perform cross validation\n",
    "results_lbp_poly_5 = crossval_dset(all_data, all_labels, model_f)\n",
    "print(\"Means(%)\", 100*np.mean(results_lbp_poly_5, axis=1))\n",
    "print(\"STDev(%)\", 100*np.std(results_lbp_poly_5, axis=1))"
   ]
  },
  {
   "cell_type": "code",
   "execution_count": 218,
   "metadata": {},
   "outputs": [
    {
     "data": {
      "application/vnd.jupyter.widget-view+json": {
       "model_id": "",
       "version_major": 2,
       "version_minor": 0
      },
      "text/plain": [
       "VBox(children=(HTML(value=''), IntProgress(value=0, max=5)))"
      ]
     },
     "metadata": {},
     "output_type": "display_data"
    },
    {
     "name": "stdout",
     "output_type": "stream",
     "text": [
      "Means(%) [24.03920726 22.53236517 23.93229223 23.34858676 25.67260043]\n",
      "STDev(%) [2.97597688 3.72426302 2.89221783 3.4182892  3.07675998]\n",
      "CPU times: user 10min 41s, sys: 1.28 s, total: 10min 42s\n",
      "Wall time: 7min 28s\n"
     ]
    }
   ],
   "source": [
    "%%time\n",
    "# Kernel sigmoidal\n",
    "\n",
    "# Modify model_f to get a fresh model every time\n",
    "model_f = lambda:get_model(kernel_type=cv2.ml.SVM_SIGMOID)\n",
    "\n",
    "# Perform cross validation\n",
    "results_lbp_sigmoid = crossval_dset(all_data, all_labels, model_f)\n",
    "print(\"Means(%)\", 100*np.mean(results_lbp_sigmoid, axis=1))\n",
    "print(\"STDev(%)\", 100*np.std(results_lbp_sigmoid, axis=1))"
   ]
  },
  {
   "cell_type": "code",
   "execution_count": 219,
   "metadata": {},
   "outputs": [
    {
     "data": {
      "application/vnd.jupyter.widget-view+json": {
       "model_id": "",
       "version_major": 2,
       "version_minor": 0
      },
      "text/plain": [
       "VBox(children=(HTML(value=''), IntProgress(value=0, max=5)))"
      ]
     },
     "metadata": {},
     "output_type": "display_data"
    },
    {
     "name": "stdout",
     "output_type": "stream",
     "text": [
      "Means(%) [98.27762448 97.24461455 97.76964775 97.93781228 98.19803061]\n",
      "STDev(%) [0.81715494 1.5439759  1.32616577 1.04546814 0.93638216]\n",
      "CPU times: user 10min 49s, sys: 1.3 s, total: 10min 50s\n",
      "Wall time: 7min 49s\n"
     ]
    }
   ],
   "source": [
    "%%time\n",
    "# Kernel radial\n",
    "\n",
    "# Modify model_f to get a fresh model every time\n",
    "model_f = lambda:get_model(kernel_type=cv2.ml.SVM_RBF)\n",
    "\n",
    "# Perform cross validation\n",
    "results_lbp_radial = crossval_dset(all_data, all_labels, model_f)\n",
    "print(\"Means(%)\", 100*np.mean(results_lbp_radial, axis=1))\n",
    "print(\"STDev(%)\", 100*np.std(results_lbp_radial, axis=1))"
   ]
  },
  {
   "cell_type": "code",
   "execution_count": null,
   "metadata": {},
   "outputs": [],
   "source": []
  },
  {
   "cell_type": "markdown",
   "metadata": {},
   "source": [
    "### Vamos a continuar con el kernel polinómico de nuevo, el mejor resultado con parámetros por defecto, cambiando C"
   ]
  },
  {
   "cell_type": "code",
   "execution_count": 233,
   "metadata": {},
   "outputs": [
    {
     "data": {
      "application/vnd.jupyter.widget-view+json": {
       "model_id": "",
       "version_major": 2,
       "version_minor": 0
      },
      "text/plain": [
       "VBox(children=(HTML(value=''), IntProgress(value=0, max=5)))"
      ]
     },
     "metadata": {},
     "output_type": "display_data"
    },
    {
     "name": "stdout",
     "output_type": "stream",
     "text": [
      "Means(%) [97.33715435 98.00596371 98.14738732 97.95112112 97.30842143]\n",
      "STDev(%) [1.47687525 1.17837609 0.99787227 1.40842218 1.93040188]\n",
      "CPU times: user 46.2 s, sys: 268 ms, total: 46.5 s\n",
      "Wall time: 35.5 s\n"
     ]
    }
   ],
   "source": [
    "%%time\n",
    "# Kernel polinómico grado 5\n",
    "\n",
    "# Modify model_f to get a fresh model every time\n",
    "model_f = lambda:get_model(kernel_type=cv2.ml.SVM_POLY, degree=5, Cval=0.125)\n",
    "\n",
    "# Perform cross validation\n",
    "results_lbp_poly_5_1 = crossval_dset(all_data, all_labels, model_f)\n",
    "print(\"Means(%)\", 100*np.mean(results_lbp_poly_5_1, axis=1))\n",
    "print(\"STDev(%)\", 100*np.std(results_lbp_poly_5_1, axis=1))"
   ]
  },
  {
   "cell_type": "code",
   "execution_count": 234,
   "metadata": {},
   "outputs": [
    {
     "data": {
      "application/vnd.jupyter.widget-view+json": {
       "model_id": "",
       "version_major": 2,
       "version_minor": 0
      },
      "text/plain": [
       "VBox(children=(HTML(value=''), IntProgress(value=0, max=5)))"
      ]
     },
     "metadata": {},
     "output_type": "display_data"
    },
    {
     "name": "stdout",
     "output_type": "stream",
     "text": [
      "Means(%) [97.75119154 97.64071503 97.78174268 97.31061571 98.5826824 ]\n",
      "STDev(%) [1.28921367 1.73556435 1.24171878 1.29091813 0.84640123]\n",
      "CPU times: user 46.8 s, sys: 176 ms, total: 47 s\n",
      "Wall time: 35.9 s\n"
     ]
    }
   ],
   "source": [
    "%%time\n",
    "# Kernel polinómico grado 5\n",
    "\n",
    "# Modify model_f to get a fresh model every time\n",
    "model_f = lambda:get_model(kernel_type=cv2.ml.SVM_POLY, degree=5, Cval=0.5)\n",
    "\n",
    "# Perform cross validation\n",
    "results_lbp_poly_5_2 = crossval_dset(all_data, all_labels, model_f)\n",
    "print(\"Means(%)\", 100*np.mean(results_lbp_poly_5_2, axis=1))\n",
    "print(\"STDev(%)\", 100*np.std(results_lbp_poly_5_2, axis=1))"
   ]
  },
  {
   "cell_type": "code",
   "execution_count": 235,
   "metadata": {},
   "outputs": [
    {
     "data": {
      "application/vnd.jupyter.widget-view+json": {
       "model_id": "",
       "version_major": 2,
       "version_minor": 0
      },
      "text/plain": [
       "VBox(children=(HTML(value=''), IntProgress(value=0, max=5)))"
      ]
     },
     "metadata": {},
     "output_type": "display_data"
    },
    {
     "name": "stdout",
     "output_type": "stream",
     "text": [
      "Means(%) [98.15696104 97.48954514 97.20347354 98.75572786 97.72600998]\n",
      "STDev(%) [1.19306853 1.49753752 1.57223983 0.90521291 1.09706102]\n",
      "CPU times: user 46.6 s, sys: 208 ms, total: 46.8 s\n",
      "Wall time: 35.7 s\n"
     ]
    }
   ],
   "source": [
    "%%time\n",
    "# Kernel polinómico grado 5\n",
    "\n",
    "# Modify model_f to get a fresh model every time\n",
    "model_f = lambda:get_model(kernel_type=cv2.ml.SVM_POLY, degree=5, Cval=1.0)\n",
    "\n",
    "# Perform cross validation\n",
    "results_lbp_poly_5_3 = crossval_dset(all_data, all_labels, model_f)\n",
    "print(\"Means(%)\", 100*np.mean(results_lbp_poly_5_3, axis=1))\n",
    "print(\"STDev(%)\", 100*np.std(results_lbp_poly_5_3, axis=1))"
   ]
  },
  {
   "cell_type": "code",
   "execution_count": 236,
   "metadata": {
    "scrolled": true
   },
   "outputs": [
    {
     "data": {
      "application/vnd.jupyter.widget-view+json": {
       "model_id": "",
       "version_major": 2,
       "version_minor": 0
      },
      "text/plain": [
       "VBox(children=(HTML(value=''), IntProgress(value=0, max=5)))"
      ]
     },
     "metadata": {},
     "output_type": "display_data"
    },
    {
     "name": "stdout",
     "output_type": "stream",
     "text": [
      "Means(%) [97.71795842 98.41390994 97.24432746 97.98934377 98.05974648]\n",
      "STDev(%) [1.53715988 0.89684398 1.63137037 1.45187203 0.97770652]\n",
      "CPU times: user 46.3 s, sys: 196 ms, total: 46.5 s\n",
      "Wall time: 35.4 s\n"
     ]
    }
   ],
   "source": [
    "%%time\n",
    "# Kernel polinómico grado 5\n",
    "\n",
    "# Modify model_f to get a fresh model every time\n",
    "model_f = lambda:get_model(kernel_type=cv2.ml.SVM_POLY, degree=5, Cval=2.0)\n",
    "\n",
    "# Perform cross validation\n",
    "results_lbp_poly_5_4 = crossval_dset(all_data, all_labels, model_f)\n",
    "print(\"Means(%)\", 100*np.mean(results_lbp_poly_5_4, axis=1))\n",
    "print(\"STDev(%)\", 100*np.std(results_lbp_poly_5_4, axis=1))"
   ]
  },
  {
   "cell_type": "code",
   "execution_count": 237,
   "metadata": {},
   "outputs": [
    {
     "data": {
      "application/vnd.jupyter.widget-view+json": {
       "model_id": "",
       "version_major": 2,
       "version_minor": 0
      },
      "text/plain": [
       "VBox(children=(HTML(value=''), IntProgress(value=0, max=5)))"
      ]
     },
     "metadata": {},
     "output_type": "display_data"
    },
    {
     "name": "stdout",
     "output_type": "stream",
     "text": [
      "Means(%) [98.07915675 97.75401345 97.81533793 98.17787069 97.7422938 ]\n",
      "STDev(%) [1.37760736 1.48835816 0.92897983 0.9665505  1.6808964 ]\n",
      "CPU times: user 46.2 s, sys: 176 ms, total: 46.4 s\n",
      "Wall time: 35.4 s\n"
     ]
    }
   ],
   "source": [
    "%%time\n",
    "# Kernel polinómico grado 5\n",
    "\n",
    "# Modify model_f to get a fresh model every time\n",
    "model_f = lambda:get_model(kernel_type=cv2.ml.SVM_POLY, degree=5, Cval=8.0)\n",
    "\n",
    "# Perform cross validation\n",
    "results_lbp_poly_5_5 = crossval_dset(all_data, all_labels, model_f)\n",
    "print(\"Means(%)\", 100*np.mean(results_lbp_poly_5_5, axis=1))\n",
    "print(\"STDev(%)\", 100*np.std(results_lbp_poly_5_5, axis=1))"
   ]
  },
  {
   "cell_type": "code",
   "execution_count": null,
   "metadata": {},
   "outputs": [],
   "source": []
  },
  {
   "cell_type": "markdown",
   "metadata": {},
   "source": [
    "### Ejercicio 3 (voluntario): Implementación y uso de SVM + LBP uniforme"
   ]
  },
  {
   "cell_type": "code",
   "execution_count": 227,
   "metadata": {},
   "outputs": [],
   "source": [
    "class LBPuDescriptor():\n",
    "    def __init__(self, in_kernel_size=3, in_border_policy=cv2.BORDER_REPLICATE, in_block_size=16, in_block_step=8):\n",
    "        self.border_policy = in_border_policy\n",
    "        self.kernel_size = in_kernel_size\n",
    "        self.block_size = in_block_size\n",
    "        self.block_step = in_block_step\n",
    "        # Get the binary values to match the way numpy unwraps the matrix to the way LBP is described\n",
    "        # This is simply the \"weight\" in the binary number\n",
    "        self.LBP_bin_values = np.array([[128,64,32],[1,0,16],[2,4,8]], dtype='uint8')\n",
    "        \n",
    "        # Instead of computing a look up table...\n",
    "        # Look up table graciously donated by https://stackoverflow.com/questions/35747924/how-to-implement-lbp-uniform\n",
    "        self.uniform_LUT = [0,1,2,3,4,58,5,6,7,58,58,58,8,58,9,10,11,58,58,58,58,58,58,58,12,58,58,58,13,58,\n",
    "        14,15,16,58,58,58,58,58,58,58,58,58,58,58,58,58,58,58,17,58,58,58,58,58,58,58,18,\n",
    "        58,58,58,19,58,20,21,22,58,58,58,58,58,58,58,58,58,58,58,58,58,58,58,58,58,58,58,\n",
    "        58,58,58,58,58,58,58,58,58,58,58,58,23,58,58,58,58,58,58,58,58,58,58,58,58,58,\n",
    "        58,58,24,58,58,58,58,58,58,58,25,58,58,58,26,58,27,28,29,30,58,31,58,58,58,32,58,\n",
    "        58,58,58,58,58,58,33,58,58,58,58,58,58,58,58,58,58,58,58,58,58,58,34,58,58,58,58,\n",
    "        58,58,58,58,58,58,58,58,58,58,58,58,58,58,58,58,58,58,58,58,58,58,58,58,58,58,\n",
    "        58,35,36,37,58,38,58,58,58,39,58,58,58,58,58,58,58,40,58,58,58,58,58,58,58,58,58,\n",
    "        58,58,58,58,58,58,41,42,43,58,44,58,58,58,45,58,58,58,58,58,58,58,46,47,48,58,49,\n",
    "        58,58,58,50,51,52,58,53,54,55,56,57]\n",
    "        \n",
    "    def compute_array(self, input_array):\n",
    "        descriptors = Parallel(n_jobs=-2)(delayed(lambda x:self.compute(x))(img) for img in log_progress(input_array, name=\"Descriptors:\"))\n",
    "        return np.array(descriptors, dtype='float32')\n",
    "    \n",
    "    def compute_block(self, input_block):\n",
    "        output_lbp_block = np.zeros(input_block.shape, dtype='uint8')\n",
    "        \n",
    "        border_size = int(1.0*self.kernel_size/2)\n",
    "        # The block is already the right size (should be!)\n",
    "        # extended_block = cv2.copyMakeBorder(input_block, border_size, border_size, border_size, border_size, self.border_policy)\n",
    "        extended_block = input_block\n",
    "        \n",
    "        # Compute only the \"inner\" part of the block, as the rest is a border\n",
    "        conv_start_x = border_size\n",
    "        conv_start_y = border_size\n",
    "        conv_end_x = input_block.shape[0] - border_size\n",
    "        conv_end_y = input_block.shape[1] - border_size\n",
    "\n",
    "        # Convolve the extended image computing the LBP descriptor at each point\n",
    "        for x in np.arange(conv_start_x, conv_end_x):\n",
    "            for y in np.arange(conv_start_y, conv_end_y):\n",
    "                half_kernel = int(self.kernel_size/2)\n",
    "                window = extended_block[x-half_kernel:x+half_kernel+1, y-half_kernel:y+half_kernel+1]\n",
    "                half_window = int(window.shape[0]/2)\n",
    "                window_mask = (window >= window[half_window,half_window])\n",
    "                score = np.sum(self.LBP_bin_values[window_mask])\n",
    "                # Instead of the raw score, transform to uniform with the look up table\n",
    "                output_lbp_block[x-conv_start_x,y-conv_start_y] = self.uniform_LUT[score]\n",
    "        # Get the histograms, normalized using density=True\n",
    "        # Also use bins from 0 to 59, since it's the range of values for the uniform LBP\n",
    "        output_descriptor, _ = np.histogram(output_lbp_block, bins=np.arange(59), density=True)\n",
    "        \n",
    "        return output_descriptor\n",
    "    \n",
    "    \n",
    "    def compute(self, input_image):\n",
    "        # Change to BW\n",
    "        if(len(input_image.shape) > 2):\n",
    "            input_image = cv2.cvtColor(input_image, cv2.COLOR_RGB2GRAY)\n",
    "            \n",
    "        output_lbp = []\n",
    "        \n",
    "        # Extend the image borders\n",
    "        border_size = int(1.0*self.kernel_size/2)\n",
    "        extended_img = cv2.copyMakeBorder(input_image, border_size, border_size, border_size, border_size, self.border_policy)\n",
    "        \n",
    "        # Slide a window (each block) across the image and compute each LBP\n",
    "        for ii in np.arange(0, input_image.shape[0], self.block_step):\n",
    "            for jj in np.arange(0, input_image.shape[1], self.block_step):\n",
    "                block = extended_img[ii:(ii+2*border_size+self.block_size), jj:(jj+2*border_size+self.block_size)]\n",
    "                # If the block is \"full size\"\n",
    "                if(np.prod(block.shape) == ((self.block_size+2*border_size)**2)):\n",
    "                    lbp_block = self.compute_block(block)\n",
    "                    output_lbp.append(lbp_block)\n",
    "        # Reshape to flatten the array and add an extra dimension that the SVM opencv classifier requires\n",
    "        return np.array(output_lbp).reshape(-1,1)\n",
    "                        \n",
    "    def get_point_LBP(self, input_window):\n",
    "        # Compare the values to the central value of the window\n",
    "        half_window = int(input_window.shape[0]/2)\n",
    "        out_LBP = (input_window >= input_window[half_window, half_window])\n",
    "        return np.sum(self.LBP_bin_values[out_LBP])"
   ]
  },
  {
   "cell_type": "code",
   "execution_count": 228,
   "metadata": {},
   "outputs": [
    {
     "data": {
      "application/vnd.jupyter.widget-view+json": {
       "model_id": "b0328be195fe4307a15cab10a1dacce1",
       "version_major": 2,
       "version_minor": 0
      },
      "text/plain": [
       "VBox(children=(HTML(value=''), IntProgress(value=0, max=4306)))"
      ]
     },
     "metadata": {},
     "output_type": "display_data"
    },
    {
     "data": {
      "application/vnd.jupyter.widget-view+json": {
       "model_id": "29ba68e491ec407b9e8faaba5391fe57",
       "version_major": 2,
       "version_minor": 0
      },
      "text/plain": [
       "VBox(children=(HTML(value=''), IntProgress(value=0, max=1100)))"
      ]
     },
     "metadata": {},
     "output_type": "display_data"
    },
    {
     "name": "stdout",
     "output_type": "stream",
     "text": [
      "CPU times: user 37.4 s, sys: 740 ms, total: 38.2 s\n",
      "Wall time: 5min 50s\n"
     ]
    }
   ],
   "source": [
    "%%time\n",
    "# Compute the uniform LBP\n",
    "lbpu = LBPuDescriptor()\n",
    "# train_descriptors_lbpu = lbpu.compute_array(train_images)\n",
    "# test_descriptors_lbpu = lbpu.compute_array(test_images)"
   ]
  },
  {
   "cell_type": "code",
   "execution_count": 229,
   "metadata": {},
   "outputs": [],
   "source": [
    "# Skip the pain of extracting the values D8 (15m ~)\n",
    "fo = h5py.File(\"data/LBPu_descriptors\", \"x\")\n",
    "fo.create_dataset(\"train\", data=train_descriptors_lbpu, chunks=True, compression='lzf')\n",
    "fo.create_dataset(\"test\", data=test_descriptors_lbpu, chunks=True, compression='lzf')\n",
    "fo.close()"
   ]
  },
  {
   "cell_type": "code",
   "execution_count": 230,
   "metadata": {},
   "outputs": [
    {
     "name": "stdout",
     "output_type": "stream",
     "text": [
      "CPU times: user 371 ms, sys: 24 ms, total: 395 ms\n",
      "Wall time: 395 ms\n"
     ]
    }
   ],
   "source": [
    "%%time\n",
    "# Read from the dataset\n",
    "fi = h5py.File(\"data/LBPu_descriptors\", \"r\")\n",
    "train_descriptors_lbpu = fi[\"train\"][:]\n",
    "test_descriptors_lbpu = fi[\"test\"][:]\n",
    "fi.close()"
   ]
  },
  {
   "cell_type": "code",
   "execution_count": 243,
   "metadata": {},
   "outputs": [],
   "source": [
    "# Put all together to use cross validation\n",
    "all_lbpu = np.concatenate([train_descriptors_lbpu, test_descriptors_lbpu], axis=0)"
   ]
  },
  {
   "cell_type": "code",
   "execution_count": 286,
   "metadata": {},
   "outputs": [],
   "source": [
    "# Select a data source\n",
    "# HOG\n",
    "# all_data = all_hog\n",
    "# LBP\n",
    "# all_data = all_lbp\n",
    "# HOG + LBP Concatenated\n",
    "# all_data = np.concatenate([all_hog, all_lbp], axis=1)\n",
    "# Uniform LBP\n",
    "all_Data = all_lbpu"
   ]
  },
  {
   "cell_type": "code",
   "execution_count": 263,
   "metadata": {},
   "outputs": [
    {
     "data": {
      "application/vnd.jupyter.widget-view+json": {
       "model_id": "",
       "version_major": 2,
       "version_minor": 0
      },
      "text/plain": [
       "VBox(children=(HTML(value=''), IntProgress(value=0, max=5)))"
      ]
     },
     "metadata": {},
     "output_type": "display_data"
    },
    {
     "name": "stdout",
     "output_type": "stream",
     "text": [
      "Means(%) [96.93795171 95.96311565 97.09588509 95.90784181 96.71748685]\n",
      "STDev(%) [1.66534327 1.74361119 1.14902307 1.896792   1.33721268]\n",
      "CPU times: user 21.3 s, sys: 196 ms, total: 21.5 s\n",
      "Wall time: 21.4 s\n"
     ]
    }
   ],
   "source": [
    "%%time\n",
    "# Kernel lineal\n",
    "\n",
    "# Modify model_f to get a fresh model every time\n",
    "model_f = lambda:get_model(kernel_type=cv2.ml.SVM_LINEAR)\n",
    "\n",
    "# Perform cross validation\n",
    "results_lbpu_linear = crossval_dset(all_data, all_labels, model_f, nfolds=5)\n",
    "print(\"Means(%)\", 100*np.mean(results_lbpu_linear, axis=1))\n",
    "print(\"STDev(%)\", 100*np.std(results_lbpu_linear, axis=1))"
   ]
  },
  {
   "cell_type": "code",
   "execution_count": 264,
   "metadata": {},
   "outputs": [
    {
     "data": {
      "application/vnd.jupyter.widget-view+json": {
       "model_id": "",
       "version_major": 2,
       "version_minor": 0
      },
      "text/plain": [
       "VBox(children=(HTML(value=''), IntProgress(value=0, max=5)))"
      ]
     },
     "metadata": {},
     "output_type": "display_data"
    },
    {
     "name": "stdout",
     "output_type": "stream",
     "text": [
      "Means(%) [97.3990042  97.41473058 97.98089069 97.47820884 97.61639605]\n",
      "STDev(%) [1.04937763 1.58279537 0.85845085 1.57749315 1.39127342]\n",
      "CPU times: user 37.3 s, sys: 200 ms, total: 37.5 s\n",
      "Wall time: 27.4 s\n"
     ]
    }
   ],
   "source": [
    "%%time\n",
    "# Kernel polinómico grado 2\n",
    "\n",
    "# Modify model_f to get a fresh model every time\n",
    "model_f = lambda:get_model(kernel_type=cv2.ml.SVM_POLY, degree=2)\n",
    "\n",
    "# Perform cross validation\n",
    "results_lbpu_poly_2 = crossval_dset(all_data, all_labels, model_f, nfolds=5)\n",
    "print(\"Means(%)\", 100*np.mean(results_lbpu_poly_2, axis=1))\n",
    "print(\"STDev(%)\", 100*np.std(results_lbpu_poly_2, axis=1))"
   ]
  },
  {
   "cell_type": "code",
   "execution_count": 266,
   "metadata": {
    "scrolled": true
   },
   "outputs": [
    {
     "data": {
      "application/vnd.jupyter.widget-view+json": {
       "model_id": "",
       "version_major": 2,
       "version_minor": 0
      },
      "text/plain": [
       "VBox(children=(HTML(value=''), IntProgress(value=0, max=5)))"
      ]
     },
     "metadata": {},
     "output_type": "display_data"
    },
    {
     "name": "stdout",
     "output_type": "stream",
     "text": [
      "Means(%) [97.68151461 97.42242652 98.41917017 96.90845161 98.25206188]\n",
      "STDev(%) [1.15266811 1.61034862 0.82438074 2.01789832 0.96053351]\n",
      "CPU times: user 48.1 s, sys: 190 ms, total: 48.3 s\n",
      "Wall time: 35.5 s\n"
     ]
    }
   ],
   "source": [
    "%%time\n",
    "# Kernel polinómico grado 5\n",
    "\n",
    "# Modify model_f to get a fresh model every time\n",
    "model_f = lambda:get_model(kernel_type=cv2.ml.SVM_POLY, degree=5)\n",
    "\n",
    "# Perform cross validation\n",
    "results_lbpu_poly_5 = crossval_dset(all_data, all_labels, model_f, nfolds=5)\n",
    "print(\"Means(%)\", 100*np.mean(results_lbpu_poly_5, axis=1))\n",
    "print(\"STDev(%)\", 100*np.std(results_lbpu_poly_5, axis=1))"
   ]
  },
  {
   "cell_type": "code",
   "execution_count": 248,
   "metadata": {},
   "outputs": [
    {
     "data": {
      "application/vnd.jupyter.widget-view+json": {
       "model_id": "",
       "version_major": 2,
       "version_minor": 0
      },
      "text/plain": [
       "VBox(children=(HTML(value=''), IntProgress(value=0, max=5)))"
      ]
     },
     "metadata": {},
     "output_type": "display_data"
    },
    {
     "name": "stderr",
     "output_type": "stream",
     "text": [
      "/home/frgon/anaconda3/envs/vision/lib/python3.7/site-packages/sklearn/metrics/classification.py:1143: UndefinedMetricWarning: Precision is ill-defined and being set to 0.0 due to no predicted samples.\n",
      "  'precision', 'predicted', average, warn_for)\n",
      "/home/frgon/anaconda3/envs/vision/lib/python3.7/site-packages/sklearn/metrics/classification.py:1143: UndefinedMetricWarning: F-score is ill-defined and being set to 0.0 due to no predicted samples.\n",
      "  'precision', 'predicted', average, warn_for)\n",
      "/home/frgon/anaconda3/envs/vision/lib/python3.7/site-packages/sklearn/metrics/classification.py:1143: UndefinedMetricWarning: Precision is ill-defined and being set to 0.0 due to no predicted samples.\n",
      "  'precision', 'predicted', average, warn_for)\n",
      "/home/frgon/anaconda3/envs/vision/lib/python3.7/site-packages/sklearn/metrics/classification.py:1143: UndefinedMetricWarning: F-score is ill-defined and being set to 0.0 due to no predicted samples.\n",
      "  'precision', 'predicted', average, warn_for)\n"
     ]
    },
    {
     "name": "stdout",
     "output_type": "stream",
     "text": [
      "Means(%) [56.94795963 54.3720774  21.0805522  21.0805522  21.0972746 ]\n",
      "STDev(%) [ 3.65380673  3.25258506 25.87132787 25.87132787 25.89008935]\n",
      "CPU times: user 1min 26s, sys: 284 ms, total: 1min 26s\n",
      "Wall time: 1min 3s\n"
     ]
    },
    {
     "name": "stderr",
     "output_type": "stream",
     "text": [
      "/home/frgon/anaconda3/envs/vision/lib/python3.7/site-packages/sklearn/metrics/classification.py:1143: UndefinedMetricWarning: Precision is ill-defined and being set to 0.0 due to no predicted samples.\n",
      "  'precision', 'predicted', average, warn_for)\n",
      "/home/frgon/anaconda3/envs/vision/lib/python3.7/site-packages/sklearn/metrics/classification.py:1143: UndefinedMetricWarning: F-score is ill-defined and being set to 0.0 due to no predicted samples.\n",
      "  'precision', 'predicted', average, warn_for)\n"
     ]
    }
   ],
   "source": [
    "%%time\n",
    "# Kernel sigmoidal\n",
    "\n",
    "# Modify model_f to get a fresh model every time\n",
    "model_f = lambda:get_model(kernel_type=cv2.ml.SVM_SIGMOID)\n",
    "\n",
    "# Perform cross validation\n",
    "results_lbpu_sigmoid = crossval_dset(all_data, all_labels, model_f)\n",
    "print(\"Means(%)\", 100*np.mean(results_lbpu_sigmoid, axis=1))\n",
    "print(\"STDev(%)\", 100*np.std(results_lbpu_sigmoid, axis=1))"
   ]
  },
  {
   "cell_type": "code",
   "execution_count": 249,
   "metadata": {},
   "outputs": [
    {
     "data": {
      "application/vnd.jupyter.widget-view+json": {
       "model_id": "",
       "version_major": 2,
       "version_minor": 0
      },
      "text/plain": [
       "VBox(children=(HTML(value=''), IntProgress(value=0, max=5)))"
      ]
     },
     "metadata": {},
     "output_type": "display_data"
    },
    {
     "name": "stdout",
     "output_type": "stream",
     "text": [
      "Means(%) [79.61492398 81.5957534  79.98940087 79.53618538 80.3490351 ]\n",
      "STDev(%) [15.47231046 16.37651838 15.59724891 15.19530643 15.88270573]\n",
      "CPU times: user 2min 18s, sys: 300 ms, total: 2min 19s\n",
      "Wall time: 1min 40s\n"
     ]
    }
   ],
   "source": [
    "%%time\n",
    "# Kernel radial\n",
    "\n",
    "# Modify model_f to get a fresh model every time\n",
    "model_f = lambda:get_model(kernel_type=cv2.ml.SVM_RBF)\n",
    "\n",
    "# Perform cross validation\n",
    "results_lbpu_radial = crossval_dset(all_data, all_labels, model_f)\n",
    "print(\"Means(%)\", 100*np.mean(results_lbpu_radial, axis=1))\n",
    "print(\"STDev(%)\", 100*np.std(results_lbpu_radial, axis=1))"
   ]
  },
  {
   "cell_type": "code",
   "execution_count": null,
   "metadata": {},
   "outputs": [],
   "source": []
  },
  {
   "cell_type": "code",
   "execution_count": null,
   "metadata": {},
   "outputs": [],
   "source": []
  },
  {
   "cell_type": "markdown",
   "metadata": {},
   "source": [
    "### Vamos a continuar con el kernel polinómico de nuevo, el mejor resultado con parámetros por defecto, cambiando C"
   ]
  },
  {
   "cell_type": "code",
   "execution_count": 288,
   "metadata": {
    "scrolled": true
   },
   "outputs": [
    {
     "name": "stdout",
     "output_type": "stream",
     "text": [
      "Means(%) [97.35975318 97.91891247 97.6467151  98.17118945 98.33570446]\n",
      "STDev(%) [1.59667312 1.15800176 1.33842564 1.1226049  1.49908284]\n",
      "CPU times: user 1.09 ms, sys: 3 µs, total: 1.09 ms\n",
      "Wall time: 821 µs\n"
     ]
    }
   ],
   "source": [
    "%%time\n",
    "# Kernel polinómico grado 5\n",
    "\n",
    "# Modify model_f to get a fresh model every time\n",
    "model_f = lambda:get_model(kernel_type=cv2.ml.SVM_POLY, degree=5, Cval=0.125)\n",
    "\n",
    "# Perform cross validation\n",
    "results_lbpu_poly_5_1 = crossval_dset(all_data, all_labels, model_f)\n",
    "print(\"Means(%)\", 100*np.mean(results_lbpu_poly_5_1, axis=1))\n",
    "print(\"STDev(%)\", 100*np.std(results_lbpu_poly_5_1, axis=1))"
   ]
  },
  {
   "cell_type": "code",
   "execution_count": 289,
   "metadata": {},
   "outputs": [
    {
     "name": "stdout",
     "output_type": "stream",
     "text": [
      "Means(%) [97.54806385 98.41135359 98.51033364 97.41512397 97.93975726]\n",
      "STDev(%) [1.90424477 1.08481724 0.93416765 1.26231437 1.28676962]\n",
      "CPU times: user 575 µs, sys: 2 µs, total: 577 µs\n",
      "Wall time: 436 µs\n"
     ]
    }
   ],
   "source": [
    "%%time\n",
    "# Kernel polinómico grado 5\n",
    "\n",
    "# Modify model_f to get a fresh model every time\n",
    "model_f = lambda:get_model(kernel_type=cv2.ml.SVM_POLY, degree=5, Cval=0.5)\n",
    "\n",
    "# Perform cross validation\n",
    "results_lbpu_poly_5_2 = crossval_dset(all_data, all_labels, model_f)\n",
    "print(\"Means(%)\", 100*np.mean(results_lbpu_poly_5_2, axis=1))\n",
    "print(\"STDev(%)\", 100*np.std(results_lbpu_poly_5_2, axis=1))"
   ]
  },
  {
   "cell_type": "code",
   "execution_count": 290,
   "metadata": {
    "scrolled": true
   },
   "outputs": [
    {
     "name": "stdout",
     "output_type": "stream",
     "text": [
      "Means(%) [97.99648022 98.39959442 97.42353959 97.6318532  97.55360111]\n",
      "STDev(%) [0.99503118 1.17768895 1.50579282 1.51231746 1.30702617]\n",
      "CPU times: user 1.69 ms, sys: 0 ns, total: 1.69 ms\n",
      "Wall time: 1.51 ms\n"
     ]
    }
   ],
   "source": [
    "%%time\n",
    "# Kernel polinómico grado 5\n",
    "\n",
    "# Modify model_f to get a fresh model every time\n",
    "model_f = lambda:get_model(kernel_type=cv2.ml.SVM_POLY, degree=5, Cval=1.0)\n",
    "\n",
    "# Perform cross validation\n",
    "results_lbpu_poly_5_3 = crossval_dset(all_data, all_labels, model_f)\n",
    "print(\"Means(%)\", 100*np.mean(results_lbpu_poly_5_3, axis=1))\n",
    "print(\"STDev(%)\", 100*np.std(results_lbpu_poly_5_3, axis=1))"
   ]
  },
  {
   "cell_type": "code",
   "execution_count": 291,
   "metadata": {},
   "outputs": [
    {
     "name": "stdout",
     "output_type": "stream",
     "text": [
      "Means(%) [98.2714464  97.31888647 98.51591008 97.52612519 97.30977654]\n",
      "STDev(%) [1.1611152  1.63848182 0.72173658 1.55947386 1.72391463]\n",
      "CPU times: user 974 µs, sys: 2 µs, total: 976 µs\n",
      "Wall time: 726 µs\n"
     ]
    }
   ],
   "source": [
    "%%time\n",
    "# Kernel polinómico grado 5\n",
    "\n",
    "# Modify model_f to get a fresh model every time\n",
    "model_f = lambda:get_model(kernel_type=cv2.ml.SVM_POLY, degree=5, Cval=2.0)\n",
    "\n",
    "# Perform cross validation\n",
    "results_lbpu_poly_5_4 = crossval_dset(all_data, all_labels, model_f)\n",
    "print(\"Means(%)\", 100*np.mean(results_lbpu_poly_5_4, axis=1))\n",
    "print(\"STDev(%)\", 100*np.std(results_lbpu_poly_5_4, axis=1))"
   ]
  },
  {
   "cell_type": "code",
   "execution_count": 292,
   "metadata": {},
   "outputs": [
    {
     "name": "stdout",
     "output_type": "stream",
     "text": [
      "Means(%) [97.48987901 97.40574391 98.25100838 97.0932884  98.34458598]\n",
      "STDev(%) [1.58381467 1.47887494 0.88290665 1.91735552 1.08067197]\n",
      "CPU times: user 1.52 ms, sys: 0 ns, total: 1.52 ms\n",
      "Wall time: 1.2 ms\n"
     ]
    }
   ],
   "source": [
    "%%time\n",
    "# Kernel polinómico grado 5\n",
    "\n",
    "# Modify model_f to get a fresh model every time\n",
    "model_f = lambda:get_model(kernel_type=cv2.ml.SVM_POLY, degree=5, Cval=8.0)\n",
    "\n",
    "# Perform cross validation\n",
    "results_lbpu_poly_5_5 = crossval_dset(all_data, all_labels, model_f)\n",
    "print(\"Means(%)\", 100*np.mean(results_lbpu_poly_5_5, axis=1))\n",
    "print(\"STDev(%)\", 100*np.std(results_lbpu_poly_5_5, axis=1))"
   ]
  },
  {
   "cell_type": "code",
   "execution_count": null,
   "metadata": {},
   "outputs": [],
   "source": []
  },
  {
   "cell_type": "code",
   "execution_count": null,
   "metadata": {},
   "outputs": [],
   "source": []
  },
  {
   "cell_type": "code",
   "execution_count": null,
   "metadata": {},
   "outputs": [],
   "source": []
  },
  {
   "cell_type": "markdown",
   "metadata": {},
   "source": [
    "### Ejercicio 4 (voluntario): Combinación de características, HOG + LBPu"
   ]
  },
  {
   "cell_type": "code",
   "execution_count": 294,
   "metadata": {},
   "outputs": [],
   "source": [
    "# Select a data source\n",
    "# HOG\n",
    "# all_data = all_hog\n",
    "# LBP\n",
    "# all_data = all_lbp\n",
    "# Uniform LBP\n",
    "# all_Data = all_lbpu\n",
    "# HOG + LBPu Concatenated\n",
    "all_data = np.concatenate([all_hog, all_lbpu], axis=1)"
   ]
  },
  {
   "cell_type": "code",
   "execution_count": 295,
   "metadata": {},
   "outputs": [
    {
     "data": {
      "application/vnd.jupyter.widget-view+json": {
       "model_id": "",
       "version_major": 2,
       "version_minor": 0
      },
      "text/plain": [
       "VBox(children=(HTML(value=''), IntProgress(value=0, max=5)))"
      ]
     },
     "metadata": {},
     "output_type": "display_data"
    },
    {
     "name": "stdout",
     "output_type": "stream",
     "text": [
      "Means(%) [98.15168908 97.92358791 97.5397425  98.84249885 97.68177587]\n",
      "STDev(%) [0.84581176 1.08758617 1.16282829 0.53016064 1.06148759]\n",
      "CPU times: user 44.9 s, sys: 444 ms, total: 45.3 s\n",
      "Wall time: 45.2 s\n"
     ]
    }
   ],
   "source": [
    "%%time\n",
    "# Kernel lineal\n",
    "\n",
    "# Modify model_f to get a fresh model every time\n",
    "model_f = lambda:get_model(kernel_type=cv2.ml.SVM_LINEAR)\n",
    "\n",
    "# Perform cross validation\n",
    "results_combined_linear = crossval_dset(all_data, all_labels, model_f, nfolds=5)\n",
    "print(\"Means(%)\", 100*np.mean(results_combined_linear, axis=1))\n",
    "print(\"STDev(%)\", 100*np.std(results_combined_linear, axis=1))"
   ]
  },
  {
   "cell_type": "code",
   "execution_count": 296,
   "metadata": {},
   "outputs": [
    {
     "data": {
      "application/vnd.jupyter.widget-view+json": {
       "model_id": "",
       "version_major": 2,
       "version_minor": 0
      },
      "text/plain": [
       "VBox(children=(HTML(value=''), IntProgress(value=0, max=5)))"
      ]
     },
     "metadata": {},
     "output_type": "display_data"
    },
    {
     "name": "stdout",
     "output_type": "stream",
     "text": [
      "Means(%) [98.85431043 98.60588103 98.69281416 98.85791279 98.17268733]\n",
      "STDev(%) [0.5282992  0.64782819 0.62171039 0.54059519 0.89077784]\n",
      "CPU times: user 1min 20s, sys: 416 ms, total: 1min 20s\n",
      "Wall time: 57.2 s\n"
     ]
    }
   ],
   "source": [
    "%%time\n",
    "# Kernel polinómico grado 2\n",
    "\n",
    "# Modify model_f to get a fresh model every time\n",
    "model_f = lambda:get_model(kernel_type=cv2.ml.SVM_POLY, degree=2)\n",
    "\n",
    "# Perform cross validation\n",
    "results_combined_poly_2 = crossval_dset(all_data, all_labels, model_f, nfolds=5)\n",
    "print(\"Means(%)\", 100*np.mean(results_combined_poly_2, axis=1))\n",
    "print(\"STDev(%)\", 100*np.std(results_combined_poly_2, axis=1))"
   ]
  },
  {
   "cell_type": "code",
   "execution_count": 297,
   "metadata": {
    "scrolled": true
   },
   "outputs": [
    {
     "data": {
      "application/vnd.jupyter.widget-view+json": {
       "model_id": "",
       "version_major": 2,
       "version_minor": 0
      },
      "text/plain": [
       "VBox(children=(HTML(value=''), IntProgress(value=0, max=5)))"
      ]
     },
     "metadata": {},
     "output_type": "display_data"
    },
    {
     "name": "stdout",
     "output_type": "stream",
     "text": [
      "Means(%) [98.85209    98.60889791 98.85200971 98.36346492 98.44991515]\n",
      "STDev(%) [0.66035385 0.64821986 0.66488411 0.76615187 0.78329942]\n",
      "CPU times: user 1min 54s, sys: 524 ms, total: 1min 55s\n",
      "Wall time: 1min 21s\n"
     ]
    }
   ],
   "source": [
    "%%time\n",
    "# Kernel polinómico grado 5\n",
    "\n",
    "# Modify model_f to get a fresh model every time\n",
    "model_f = lambda:get_model(kernel_type=cv2.ml.SVM_POLY, degree=5)\n",
    "\n",
    "# Perform cross validation\n",
    "results_combined_poly_5 = crossval_dset(all_data, all_labels, model_f, nfolds=5)\n",
    "print(\"Means(%)\", 100*np.mean(results_combined_poly_5, axis=1))\n",
    "print(\"STDev(%)\", 100*np.std(results_combined_poly_5, axis=1))"
   ]
  },
  {
   "cell_type": "code",
   "execution_count": 298,
   "metadata": {},
   "outputs": [
    {
     "data": {
      "application/vnd.jupyter.widget-view+json": {
       "model_id": "",
       "version_major": 2,
       "version_minor": 0
      },
      "text/plain": [
       "VBox(children=(HTML(value=''), IntProgress(value=0, max=5)))"
      ]
     },
     "metadata": {},
     "output_type": "display_data"
    },
    {
     "name": "stderr",
     "output_type": "stream",
     "text": [
      "/home/frgon/anaconda3/envs/vision/lib/python3.7/site-packages/sklearn/metrics/classification.py:1143: UndefinedMetricWarning: Precision is ill-defined and being set to 0.0 due to no predicted samples.\n",
      "  'precision', 'predicted', average, warn_for)\n",
      "/home/frgon/anaconda3/envs/vision/lib/python3.7/site-packages/sklearn/metrics/classification.py:1143: UndefinedMetricWarning: F-score is ill-defined and being set to 0.0 due to no predicted samples.\n",
      "  'precision', 'predicted', average, warn_for)\n",
      "/home/frgon/anaconda3/envs/vision/lib/python3.7/site-packages/sklearn/metrics/classification.py:1143: UndefinedMetricWarning: Precision is ill-defined and being set to 0.0 due to no predicted samples.\n",
      "  'precision', 'predicted', average, warn_for)\n",
      "/home/frgon/anaconda3/envs/vision/lib/python3.7/site-packages/sklearn/metrics/classification.py:1143: UndefinedMetricWarning: F-score is ill-defined and being set to 0.0 due to no predicted samples.\n",
      "  'precision', 'predicted', average, warn_for)\n",
      "/home/frgon/anaconda3/envs/vision/lib/python3.7/site-packages/sklearn/metrics/classification.py:1143: UndefinedMetricWarning: Precision is ill-defined and being set to 0.0 due to no predicted samples.\n",
      "  'precision', 'predicted', average, warn_for)\n",
      "/home/frgon/anaconda3/envs/vision/lib/python3.7/site-packages/sklearn/metrics/classification.py:1143: UndefinedMetricWarning: F-score is ill-defined and being set to 0.0 due to no predicted samples.\n",
      "  'precision', 'predicted', average, warn_for)\n",
      "/home/frgon/anaconda3/envs/vision/lib/python3.7/site-packages/sklearn/metrics/classification.py:1143: UndefinedMetricWarning: Precision is ill-defined and being set to 0.0 due to no predicted samples.\n",
      "  'precision', 'predicted', average, warn_for)\n",
      "/home/frgon/anaconda3/envs/vision/lib/python3.7/site-packages/sklearn/metrics/classification.py:1143: UndefinedMetricWarning: F-score is ill-defined and being set to 0.0 due to no predicted samples.\n",
      "  'precision', 'predicted', average, warn_for)\n"
     ]
    },
    {
     "name": "stdout",
     "output_type": "stream",
     "text": [
      "Means(%) [21.05360444 21.06382979 21.06382979 21.06382979 21.06382979]\n",
      "STDev(%) [25.83905175 25.85259605 25.85259605 25.85259605 25.85259605]\n",
      "CPU times: user 3min 54s, sys: 576 ms, total: 3min 55s\n",
      "Wall time: 2min 45s\n"
     ]
    },
    {
     "name": "stderr",
     "output_type": "stream",
     "text": [
      "/home/frgon/anaconda3/envs/vision/lib/python3.7/site-packages/sklearn/metrics/classification.py:1143: UndefinedMetricWarning: Precision is ill-defined and being set to 0.0 due to no predicted samples.\n",
      "  'precision', 'predicted', average, warn_for)\n",
      "/home/frgon/anaconda3/envs/vision/lib/python3.7/site-packages/sklearn/metrics/classification.py:1143: UndefinedMetricWarning: F-score is ill-defined and being set to 0.0 due to no predicted samples.\n",
      "  'precision', 'predicted', average, warn_for)\n"
     ]
    }
   ],
   "source": [
    "%%time\n",
    "# Kernel sigmoidal\n",
    "\n",
    "# Modify model_f to get a fresh model every time\n",
    "model_f = lambda:get_model(kernel_type=cv2.ml.SVM_SIGMOID)\n",
    "\n",
    "# Perform cross validation\n",
    "results_combined_sigmoid = crossval_dset(all_data, all_labels, model_f)\n",
    "print(\"Means(%)\", 100*np.mean(results_combined_sigmoid, axis=1))\n",
    "print(\"STDev(%)\", 100*np.std(results_combined_sigmoid, axis=1))"
   ]
  },
  {
   "cell_type": "code",
   "execution_count": 299,
   "metadata": {},
   "outputs": [
    {
     "data": {
      "application/vnd.jupyter.widget-view+json": {
       "model_id": "",
       "version_major": 2,
       "version_minor": 0
      },
      "text/plain": [
       "VBox(children=(HTML(value=''), IntProgress(value=0, max=5)))"
      ]
     },
     "metadata": {},
     "output_type": "display_data"
    },
    {
     "name": "stdout",
     "output_type": "stream",
     "text": [
      "Means(%) [83.83405585 81.91515393 82.77895595 81.84625501 85.33984944]\n",
      "STDev(%) [16.95824845 16.01498739 16.77419193 16.46760696 17.53074481]\n",
      "CPU times: user 6min 13s, sys: 652 ms, total: 6min 14s\n",
      "Wall time: 4min 17s\n"
     ]
    }
   ],
   "source": [
    "%%time\n",
    "# Kernel radial\n",
    "\n",
    "# Modify model_f to get a fresh model every time\n",
    "model_f = lambda:get_model(kernel_type=cv2.ml.SVM_RBF)\n",
    "\n",
    "# Perform cross validation\n",
    "results_combined_radial = crossval_dset(all_data, all_labels, model_f)\n",
    "print(\"Means(%)\", 100*np.mean(results_combined_radial, axis=1))\n",
    "print(\"STDev(%)\", 100*np.std(results_combined_radial, axis=1))"
   ]
  },
  {
   "cell_type": "code",
   "execution_count": null,
   "metadata": {},
   "outputs": [],
   "source": []
  },
  {
   "cell_type": "code",
   "execution_count": null,
   "metadata": {},
   "outputs": [],
   "source": []
  },
  {
   "cell_type": "code",
   "execution_count": null,
   "metadata": {},
   "outputs": [],
   "source": []
  },
  {
   "cell_type": "code",
   "execution_count": 300,
   "metadata": {
    "scrolled": true
   },
   "outputs": [
    {
     "data": {
      "application/vnd.jupyter.widget-view+json": {
       "model_id": "",
       "version_major": 2,
       "version_minor": 0
      },
      "text/plain": [
       "VBox(children=(HTML(value=''), IntProgress(value=0, max=5)))"
      ]
     },
     "metadata": {},
     "output_type": "display_data"
    },
    {
     "name": "stdout",
     "output_type": "stream",
     "text": [
      "Means(%) [98.75582311 99.1018161  98.36197748 98.68433809 98.26606738]\n",
      "STDev(%) [0.7089712  0.46984026 0.75942065 0.61563164 0.77556242]\n",
      "CPU times: user 1min 19s, sys: 488 ms, total: 1min 20s\n",
      "Wall time: 56.8 s\n"
     ]
    }
   ],
   "source": [
    "%%time\n",
    "# Kernel polinómico grado 2\n",
    "\n",
    "# Modify model_f to get a fresh model every time\n",
    "model_f = lambda:get_model(kernel_type=cv2.ml.SVM_POLY, degree=2, Cval=0.125)\n",
    "\n",
    "# Perform cross validation\n",
    "results_combined_poly_2_1 = crossval_dset(all_data, all_labels, model_f)\n",
    "print(\"Means(%)\", 100*np.mean(results_combined_poly_2_1, axis=1))\n",
    "print(\"STDev(%)\", 100*np.std(results_combined_poly_2_1, axis=1))"
   ]
  },
  {
   "cell_type": "code",
   "execution_count": 301,
   "metadata": {
    "scrolled": true
   },
   "outputs": [
    {
     "data": {
      "application/vnd.jupyter.widget-view+json": {
       "model_id": "",
       "version_major": 2,
       "version_minor": 0
      },
      "text/plain": [
       "VBox(children=(HTML(value=''), IntProgress(value=0, max=5)))"
      ]
     },
     "metadata": {},
     "output_type": "display_data"
    },
    {
     "name": "stdout",
     "output_type": "stream",
     "text": [
      "Means(%) [98.13135383 99.08595924 98.01234316 98.99884339 99.02787671]\n",
      "STDev(%) [0.90304797 0.44137067 0.9675611  0.67476705 0.60124419]\n",
      "CPU times: user 1min 19s, sys: 476 ms, total: 1min 20s\n",
      "Wall time: 57 s\n"
     ]
    }
   ],
   "source": [
    "%%time\n",
    "# Kernel polinómico grado 2\n",
    "\n",
    "# Modify model_f to get a fresh model every time\n",
    "model_f = lambda:get_model(kernel_type=cv2.ml.SVM_POLY, degree=2, Cval=0.5)\n",
    "\n",
    "# Perform cross validation\n",
    "results_combined_poly_2_2 = crossval_dset(all_data, all_labels, model_f)\n",
    "print(\"Means(%)\", 100*np.mean(results_combined_poly_2_2, axis=1))\n",
    "print(\"STDev(%)\", 100*np.std(results_combined_poly_2_2, axis=1))"
   ]
  },
  {
   "cell_type": "code",
   "execution_count": 302,
   "metadata": {
    "scrolled": true
   },
   "outputs": [
    {
     "data": {
      "application/vnd.jupyter.widget-view+json": {
       "model_id": "",
       "version_major": 2,
       "version_minor": 0
      },
      "text/plain": [
       "VBox(children=(HTML(value=''), IntProgress(value=0, max=5)))"
      ]
     },
     "metadata": {},
     "output_type": "display_data"
    },
    {
     "name": "stdout",
     "output_type": "stream",
     "text": [
      "Means(%) [99.01926519 98.17402295 98.10436597 98.60741927 98.36365422]\n",
      "STDev(%) [0.47675863 0.78738256 0.85574675 0.73160204 0.77957358]\n",
      "CPU times: user 1min 20s, sys: 432 ms, total: 1min 20s\n",
      "Wall time: 57.1 s\n"
     ]
    }
   ],
   "source": [
    "%%time\n",
    "# Kernel polinómico grado 2\n",
    "\n",
    "# Modify model_f to get a fresh model every time\n",
    "model_f = lambda:get_model(kernel_type=cv2.ml.SVM_POLY, degree=2, Cval=1)\n",
    "\n",
    "# Perform cross validation\n",
    "results_combined_poly_2_3 = crossval_dset(all_data, all_labels, model_f)\n",
    "print(\"Means(%)\", 100*np.mean(results_combined_poly_2_3, axis=1))\n",
    "print(\"STDev(%)\", 100*np.std(results_combined_poly_2_3, axis=1))"
   ]
  },
  {
   "cell_type": "code",
   "execution_count": 303,
   "metadata": {
    "scrolled": true
   },
   "outputs": [
    {
     "data": {
      "application/vnd.jupyter.widget-view+json": {
       "model_id": "",
       "version_major": 2,
       "version_minor": 0
      },
      "text/plain": [
       "VBox(children=(HTML(value=''), IntProgress(value=0, max=5)))"
      ]
     },
     "metadata": {},
     "output_type": "display_data"
    },
    {
     "name": "stdout",
     "output_type": "stream",
     "text": [
      "Means(%) [98.77271485 98.76952127 98.25936474 98.36890188 98.51135914]\n",
      "STDev(%) [0.6047422  0.57168008 0.83540287 0.77318335 0.67276805]\n",
      "CPU times: user 1min 19s, sys: 480 ms, total: 1min 20s\n",
      "Wall time: 56.9 s\n"
     ]
    }
   ],
   "source": [
    "%%time\n",
    "# Kernel polinómico grado 2\n",
    "\n",
    "# Modify model_f to get a fresh model every time\n",
    "model_f = lambda:get_model(kernel_type=cv2.ml.SVM_POLY, degree=2, Cval=2.0)\n",
    "\n",
    "# Perform cross validation\n",
    "results_combined_poly_2_4 = crossval_dset(all_data, all_labels, model_f)\n",
    "print(\"Means(%)\", 100*np.mean(results_combined_poly_2_4, axis=1))\n",
    "print(\"STDev(%)\", 100*np.std(results_combined_poly_2_4, axis=1))"
   ]
  },
  {
   "cell_type": "code",
   "execution_count": 304,
   "metadata": {
    "scrolled": true
   },
   "outputs": [
    {
     "data": {
      "application/vnd.jupyter.widget-view+json": {
       "model_id": "a27ac7f28335480195ea68885e10838b",
       "version_major": 2,
       "version_minor": 0
      },
      "text/plain": [
       "VBox(children=(HTML(value=''), IntProgress(value=0, max=5)))"
      ]
     },
     "metadata": {},
     "output_type": "display_data"
    },
    {
     "name": "stdout",
     "output_type": "stream",
     "text": [
      "Means(%) [98.43088263 97.87615179 98.68610889 98.51390201 99.01969312]\n",
      "STDev(%) [0.77192256 0.99833911 0.69652985 0.71801357 0.46063426]\n",
      "CPU times: user 1min 19s, sys: 456 ms, total: 1min 20s\n",
      "Wall time: 56.8 s\n"
     ]
    }
   ],
   "source": [
    "%%time\n",
    "# Kernel polinómico grado 2\n",
    "\n",
    "# Modify model_f to get a fresh model every time\n",
    "model_f = lambda:get_model(kernel_type=cv2.ml.SVM_POLY, degree=2, Cval=8.0)\n",
    "\n",
    "# Perform cross validation\n",
    "results_combined_poly_2_5 = crossval_dset(all_data, all_labels, model_f)\n",
    "print(\"Means(%)\", 100*np.mean(results_combined_poly_2_5, axis=1))\n",
    "print(\"STDev(%)\", 100*np.std(results_combined_poly_2_5, axis=1))"
   ]
  },
  {
   "cell_type": "code",
   "execution_count": null,
   "metadata": {},
   "outputs": [],
   "source": []
  }
 ],
 "metadata": {
  "kernelspec": {
   "display_name": "Python [conda env:vision]",
   "language": "python",
   "name": "conda-env-vision-py"
  },
  "language_info": {
   "codemirror_mode": {
    "name": "ipython",
    "version": 3
   },
   "file_extension": ".py",
   "mimetype": "text/x-python",
   "name": "python",
   "nbconvert_exporter": "python",
   "pygments_lexer": "ipython3",
   "version": "3.7.1"
  }
 },
 "nbformat": 4,
 "nbformat_minor": 2
}
